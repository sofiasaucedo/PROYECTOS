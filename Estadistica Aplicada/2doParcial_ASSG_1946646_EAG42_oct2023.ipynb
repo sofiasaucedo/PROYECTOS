{
 "cells": [
  {
   "cell_type": "markdown",
   "metadata": {},
   "source": [
    "# Segundo Parcial \n",
    "\n",
    "Materia: Estadistica Aplicada \n",
    "\n",
    "Grupo: 042\n",
    "                                                                                     \n",
    "Por Ana Sofia Saucedo Garcia\n",
    "\n"
   ]
  },
  {
   "cell_type": "code",
   "execution_count": 31,
   "metadata": {},
   "outputs": [],
   "source": [
    "#Librerias basicas\n",
    "\n",
    "import numpy as np\n",
    "import pandas as pd \n",
    "import matplotlib.pyplot as plt \n",
    "%matplotlib inline \n",
    "\n",
    "#Libreria especializada\n",
    "\n",
    "from lifelines import CoxPHFitter, ExponentialFitter, WeibullFitter, LogNormalFitter, KaplanMeierFitter\n",
    "\n",
    "# Libreria que requiere mi computadora para importar un archivo de internet\n",
    "import ssl\n",
    "\n"
   ]
  },
  {
   "cell_type": "code",
   "execution_count": 32,
   "metadata": {},
   "outputs": [],
   "source": [
    "# Paso extra para importar el archivo de internet \n",
    "ssl._create_default_https_context = ssl._create_unverified_context"
   ]
  },
  {
   "cell_type": "code",
   "execution_count": 33,
   "metadata": {},
   "outputs": [],
   "source": [
    "banco_datos= pd.read_csv('https://raw.githubusercontent.com/jimmyzac/Estadistica-Aplicada-FCFM-UANL/main/bases_datos/credit_risk.csv')"
   ]
  },
  {
   "cell_type": "markdown",
   "metadata": {},
   "source": [
    "### 1.Análisis exploratorio"
   ]
  },
  {
   "cell_type": "markdown",
   "metadata": {},
   "source": [
    "#### a) Cuantas variables y cuantas observaciones tienen la base"
   ]
  },
  {
   "cell_type": "code",
   "execution_count": 76,
   "metadata": {},
   "outputs": [
    {
     "data": {
      "text/html": [
       "<div>\n",
       "<style scoped>\n",
       "    .dataframe tbody tr th:only-of-type {\n",
       "        vertical-align: middle;\n",
       "    }\n",
       "\n",
       "    .dataframe tbody tr th {\n",
       "        vertical-align: top;\n",
       "    }\n",
       "\n",
       "    .dataframe thead th {\n",
       "        text-align: right;\n",
       "    }\n",
       "</style>\n",
       "<table border=\"1\" class=\"dataframe\">\n",
       "  <thead>\n",
       "    <tr style=\"text-align: right;\">\n",
       "      <th></th>\n",
       "      <th>saldo_cuenta</th>\n",
       "      <th>meses</th>\n",
       "      <th>historia_crediticia</th>\n",
       "      <th>uso</th>\n",
       "      <th>cantidad</th>\n",
       "      <th>saldo_cuenta_ahorro</th>\n",
       "      <th>años_trabajando</th>\n",
       "      <th>tasa_de_interes</th>\n",
       "      <th>genero_estado_civil</th>\n",
       "      <th>aval</th>\n",
       "      <th>...</th>\n",
       "      <th>activos</th>\n",
       "      <th>edad</th>\n",
       "      <th>planes_de_pago</th>\n",
       "      <th>casa</th>\n",
       "      <th>numero_creditos</th>\n",
       "      <th>situacion_laboral</th>\n",
       "      <th>dependientes_economicos</th>\n",
       "      <th>telefono</th>\n",
       "      <th>extranjero</th>\n",
       "      <th>credito_pagado</th>\n",
       "    </tr>\n",
       "  </thead>\n",
       "  <tbody>\n",
       "    <tr>\n",
       "      <th>0</th>\n",
       "      <td>menor_a_cero</td>\n",
       "      <td>6</td>\n",
       "      <td>no_ha_pagado</td>\n",
       "      <td>TV</td>\n",
       "      <td>1169</td>\n",
       "      <td>NaN</td>\n",
       "      <td>mas_de_7</td>\n",
       "      <td>4</td>\n",
       "      <td>hombre_soltero</td>\n",
       "      <td>NaN</td>\n",
       "      <td>...</td>\n",
       "      <td>bienes_raices</td>\n",
       "      <td>67</td>\n",
       "      <td>NaN</td>\n",
       "      <td>propia</td>\n",
       "      <td>2</td>\n",
       "      <td>gobierno</td>\n",
       "      <td>1</td>\n",
       "      <td>1</td>\n",
       "      <td>1</td>\n",
       "      <td>1</td>\n",
       "    </tr>\n",
       "    <tr>\n",
       "      <th>1</th>\n",
       "      <td>cero_a_200</td>\n",
       "      <td>48</td>\n",
       "      <td>pago_algun_credito</td>\n",
       "      <td>TV</td>\n",
       "      <td>5951</td>\n",
       "      <td>menor_100</td>\n",
       "      <td>1_a_4</td>\n",
       "      <td>2</td>\n",
       "      <td>mujer_no_soltera</td>\n",
       "      <td>NaN</td>\n",
       "      <td>...</td>\n",
       "      <td>bienes_raices</td>\n",
       "      <td>22</td>\n",
       "      <td>NaN</td>\n",
       "      <td>propia</td>\n",
       "      <td>1</td>\n",
       "      <td>gobierno</td>\n",
       "      <td>1</td>\n",
       "      <td>0</td>\n",
       "      <td>1</td>\n",
       "      <td>0</td>\n",
       "    </tr>\n",
       "    <tr>\n",
       "      <th>2</th>\n",
       "      <td>sin_cuenta</td>\n",
       "      <td>12</td>\n",
       "      <td>no_ha_pagado</td>\n",
       "      <td>colegiaturas</td>\n",
       "      <td>2096</td>\n",
       "      <td>menor_100</td>\n",
       "      <td>4_a_7</td>\n",
       "      <td>2</td>\n",
       "      <td>hombre_soltero</td>\n",
       "      <td>NaN</td>\n",
       "      <td>...</td>\n",
       "      <td>bienes_raices</td>\n",
       "      <td>49</td>\n",
       "      <td>NaN</td>\n",
       "      <td>propia</td>\n",
       "      <td>1</td>\n",
       "      <td>obrero</td>\n",
       "      <td>2</td>\n",
       "      <td>0</td>\n",
       "      <td>1</td>\n",
       "      <td>1</td>\n",
       "    </tr>\n",
       "    <tr>\n",
       "      <th>3</th>\n",
       "      <td>menor_a_cero</td>\n",
       "      <td>42</td>\n",
       "      <td>pago_algun_credito</td>\n",
       "      <td>mobiliario</td>\n",
       "      <td>7882</td>\n",
       "      <td>menor_100</td>\n",
       "      <td>4_a_7</td>\n",
       "      <td>2</td>\n",
       "      <td>hombre_soltero</td>\n",
       "      <td>aval</td>\n",
       "      <td>...</td>\n",
       "      <td>seguro_vida</td>\n",
       "      <td>45</td>\n",
       "      <td>NaN</td>\n",
       "      <td>prestada</td>\n",
       "      <td>1</td>\n",
       "      <td>gobierno</td>\n",
       "      <td>2</td>\n",
       "      <td>0</td>\n",
       "      <td>1</td>\n",
       "      <td>1</td>\n",
       "    </tr>\n",
       "    <tr>\n",
       "      <th>4</th>\n",
       "      <td>menor_a_cero</td>\n",
       "      <td>24</td>\n",
       "      <td>pago_retrasado</td>\n",
       "      <td>coche_nuevo</td>\n",
       "      <td>4870</td>\n",
       "      <td>menor_100</td>\n",
       "      <td>1_a_4</td>\n",
       "      <td>3</td>\n",
       "      <td>hombre_soltero</td>\n",
       "      <td>NaN</td>\n",
       "      <td>...</td>\n",
       "      <td>sin_activos</td>\n",
       "      <td>53</td>\n",
       "      <td>NaN</td>\n",
       "      <td>prestada</td>\n",
       "      <td>2</td>\n",
       "      <td>gobierno</td>\n",
       "      <td>2</td>\n",
       "      <td>0</td>\n",
       "      <td>1</td>\n",
       "      <td>0</td>\n",
       "    </tr>\n",
       "    <tr>\n",
       "      <th>...</th>\n",
       "      <td>...</td>\n",
       "      <td>...</td>\n",
       "      <td>...</td>\n",
       "      <td>...</td>\n",
       "      <td>...</td>\n",
       "      <td>...</td>\n",
       "      <td>...</td>\n",
       "      <td>...</td>\n",
       "      <td>...</td>\n",
       "      <td>...</td>\n",
       "      <td>...</td>\n",
       "      <td>...</td>\n",
       "      <td>...</td>\n",
       "      <td>...</td>\n",
       "      <td>...</td>\n",
       "      <td>...</td>\n",
       "      <td>...</td>\n",
       "      <td>...</td>\n",
       "      <td>...</td>\n",
       "      <td>...</td>\n",
       "      <td>...</td>\n",
       "    </tr>\n",
       "    <tr>\n",
       "      <th>995</th>\n",
       "      <td>sin_cuenta</td>\n",
       "      <td>12</td>\n",
       "      <td>pago_algun_credito</td>\n",
       "      <td>mobiliario</td>\n",
       "      <td>1736</td>\n",
       "      <td>menor_100</td>\n",
       "      <td>4_a_7</td>\n",
       "      <td>3</td>\n",
       "      <td>mujer_no_soltera</td>\n",
       "      <td>NaN</td>\n",
       "      <td>...</td>\n",
       "      <td>bienes_raices</td>\n",
       "      <td>31</td>\n",
       "      <td>NaN</td>\n",
       "      <td>propia</td>\n",
       "      <td>1</td>\n",
       "      <td>obrero</td>\n",
       "      <td>1</td>\n",
       "      <td>0</td>\n",
       "      <td>1</td>\n",
       "      <td>1</td>\n",
       "    </tr>\n",
       "    <tr>\n",
       "      <th>996</th>\n",
       "      <td>menor_a_cero</td>\n",
       "      <td>30</td>\n",
       "      <td>pago_algun_credito</td>\n",
       "      <td>coche_usado</td>\n",
       "      <td>3857</td>\n",
       "      <td>menor_100</td>\n",
       "      <td>1_a_4</td>\n",
       "      <td>4</td>\n",
       "      <td>hombre_divorciado</td>\n",
       "      <td>NaN</td>\n",
       "      <td>...</td>\n",
       "      <td>seguro_vida</td>\n",
       "      <td>40</td>\n",
       "      <td>NaN</td>\n",
       "      <td>propia</td>\n",
       "      <td>1</td>\n",
       "      <td>administrativo</td>\n",
       "      <td>1</td>\n",
       "      <td>1</td>\n",
       "      <td>1</td>\n",
       "      <td>1</td>\n",
       "    </tr>\n",
       "    <tr>\n",
       "      <th>997</th>\n",
       "      <td>sin_cuenta</td>\n",
       "      <td>12</td>\n",
       "      <td>pago_algun_credito</td>\n",
       "      <td>TV</td>\n",
       "      <td>804</td>\n",
       "      <td>menor_100</td>\n",
       "      <td>mas_de_7</td>\n",
       "      <td>4</td>\n",
       "      <td>hombre_soltero</td>\n",
       "      <td>NaN</td>\n",
       "      <td>...</td>\n",
       "      <td>otro_tipo</td>\n",
       "      <td>38</td>\n",
       "      <td>NaN</td>\n",
       "      <td>propia</td>\n",
       "      <td>1</td>\n",
       "      <td>gobierno</td>\n",
       "      <td>1</td>\n",
       "      <td>0</td>\n",
       "      <td>1</td>\n",
       "      <td>1</td>\n",
       "    </tr>\n",
       "    <tr>\n",
       "      <th>998</th>\n",
       "      <td>menor_a_cero</td>\n",
       "      <td>45</td>\n",
       "      <td>pago_algun_credito</td>\n",
       "      <td>TV</td>\n",
       "      <td>1845</td>\n",
       "      <td>menor_100</td>\n",
       "      <td>1_a_4</td>\n",
       "      <td>4</td>\n",
       "      <td>hombre_soltero</td>\n",
       "      <td>NaN</td>\n",
       "      <td>...</td>\n",
       "      <td>sin_activos</td>\n",
       "      <td>23</td>\n",
       "      <td>NaN</td>\n",
       "      <td>prestada</td>\n",
       "      <td>1</td>\n",
       "      <td>gobierno</td>\n",
       "      <td>1</td>\n",
       "      <td>1</td>\n",
       "      <td>1</td>\n",
       "      <td>0</td>\n",
       "    </tr>\n",
       "    <tr>\n",
       "      <th>999</th>\n",
       "      <td>cero_a_200</td>\n",
       "      <td>45</td>\n",
       "      <td>no_ha_pagado</td>\n",
       "      <td>coche_usado</td>\n",
       "      <td>4576</td>\n",
       "      <td>100_a_500</td>\n",
       "      <td>desempleado</td>\n",
       "      <td>3</td>\n",
       "      <td>hombre_soltero</td>\n",
       "      <td>NaN</td>\n",
       "      <td>...</td>\n",
       "      <td>otro_tipo</td>\n",
       "      <td>27</td>\n",
       "      <td>NaN</td>\n",
       "      <td>propia</td>\n",
       "      <td>1</td>\n",
       "      <td>gobierno</td>\n",
       "      <td>1</td>\n",
       "      <td>0</td>\n",
       "      <td>1</td>\n",
       "      <td>1</td>\n",
       "    </tr>\n",
       "  </tbody>\n",
       "</table>\n",
       "<p>1000 rows × 21 columns</p>\n",
       "</div>"
      ],
      "text/plain": [
       "     saldo_cuenta  meses historia_crediticia           uso  cantidad  \\\n",
       "0    menor_a_cero      6        no_ha_pagado            TV      1169   \n",
       "1      cero_a_200     48  pago_algun_credito            TV      5951   \n",
       "2      sin_cuenta     12        no_ha_pagado  colegiaturas      2096   \n",
       "3    menor_a_cero     42  pago_algun_credito    mobiliario      7882   \n",
       "4    menor_a_cero     24      pago_retrasado   coche_nuevo      4870   \n",
       "..            ...    ...                 ...           ...       ...   \n",
       "995    sin_cuenta     12  pago_algun_credito    mobiliario      1736   \n",
       "996  menor_a_cero     30  pago_algun_credito   coche_usado      3857   \n",
       "997    sin_cuenta     12  pago_algun_credito            TV       804   \n",
       "998  menor_a_cero     45  pago_algun_credito            TV      1845   \n",
       "999    cero_a_200     45        no_ha_pagado   coche_usado      4576   \n",
       "\n",
       "    saldo_cuenta_ahorro años_trabajando  tasa_de_interes genero_estado_civil  \\\n",
       "0                   NaN        mas_de_7                4      hombre_soltero   \n",
       "1             menor_100           1_a_4                2    mujer_no_soltera   \n",
       "2             menor_100           4_a_7                2      hombre_soltero   \n",
       "3             menor_100           4_a_7                2      hombre_soltero   \n",
       "4             menor_100           1_a_4                3      hombre_soltero   \n",
       "..                  ...             ...              ...                 ...   \n",
       "995           menor_100           4_a_7                3    mujer_no_soltera   \n",
       "996           menor_100           1_a_4                4   hombre_divorciado   \n",
       "997           menor_100        mas_de_7                4      hombre_soltero   \n",
       "998           menor_100           1_a_4                4      hombre_soltero   \n",
       "999           100_a_500     desempleado                3      hombre_soltero   \n",
       "\n",
       "     aval  ...        activos edad  planes_de_pago      casa numero_creditos  \\\n",
       "0     NaN  ...  bienes_raices   67             NaN    propia               2   \n",
       "1     NaN  ...  bienes_raices   22             NaN    propia               1   \n",
       "2     NaN  ...  bienes_raices   49             NaN    propia               1   \n",
       "3    aval  ...    seguro_vida   45             NaN  prestada               1   \n",
       "4     NaN  ...    sin_activos   53             NaN  prestada               2   \n",
       "..    ...  ...            ...  ...             ...       ...             ...   \n",
       "995   NaN  ...  bienes_raices   31             NaN    propia               1   \n",
       "996   NaN  ...    seguro_vida   40             NaN    propia               1   \n",
       "997   NaN  ...      otro_tipo   38             NaN    propia               1   \n",
       "998   NaN  ...    sin_activos   23             NaN  prestada               1   \n",
       "999   NaN  ...      otro_tipo   27             NaN    propia               1   \n",
       "\n",
       "     situacion_laboral dependientes_economicos  telefono  extranjero  \\\n",
       "0             gobierno                       1         1           1   \n",
       "1             gobierno                       1         0           1   \n",
       "2               obrero                       2         0           1   \n",
       "3             gobierno                       2         0           1   \n",
       "4             gobierno                       2         0           1   \n",
       "..                 ...                     ...       ...         ...   \n",
       "995             obrero                       1         0           1   \n",
       "996     administrativo                       1         1           1   \n",
       "997           gobierno                       1         0           1   \n",
       "998           gobierno                       1         1           1   \n",
       "999           gobierno                       1         0           1   \n",
       "\n",
       "     credito_pagado  \n",
       "0                 1  \n",
       "1                 0  \n",
       "2                 1  \n",
       "3                 1  \n",
       "4                 0  \n",
       "..              ...  \n",
       "995               1  \n",
       "996               1  \n",
       "997               1  \n",
       "998               0  \n",
       "999               1  \n",
       "\n",
       "[1000 rows x 21 columns]"
      ]
     },
     "execution_count": 76,
     "metadata": {},
     "output_type": "execute_result"
    }
   ],
   "source": [
    "banco_datos"
   ]
  },
  {
   "cell_type": "code",
   "execution_count": 75,
   "metadata": {},
   "outputs": [
    {
     "data": {
      "text/plain": [
       "21"
      ]
     },
     "execution_count": 75,
     "metadata": {},
     "output_type": "execute_result"
    }
   ],
   "source": [
    "banco_datos.columns.size"
   ]
  },
  {
   "cell_type": "code",
   "execution_count": 78,
   "metadata": {},
   "outputs": [
    {
     "data": {
      "text/plain": [
       "RangeIndex(start=0, stop=1000, step=1)"
      ]
     },
     "execution_count": 78,
     "metadata": {},
     "output_type": "execute_result"
    }
   ],
   "source": [
    "banco_datos.index"
   ]
  },
  {
   "cell_type": "code",
   "execution_count": 70,
   "metadata": {},
   "outputs": [
    {
     "data": {
      "text/plain": [
       "saldo_cuenta               1000\n",
       "meses                      1000\n",
       "historia_crediticia        1000\n",
       "uso                        1000\n",
       "cantidad                   1000\n",
       "saldo_cuenta_ahorro         817\n",
       "años_trabajando            1000\n",
       "tasa_de_interes            1000\n",
       "genero_estado_civil        1000\n",
       "aval                         52\n",
       "años_actual_domicilio      1000\n",
       "activos                    1000\n",
       "edad                       1000\n",
       "planes_de_pago              186\n",
       "casa                       1000\n",
       "numero_creditos            1000\n",
       "situacion_laboral          1000\n",
       "dependientes_economicos    1000\n",
       "telefono                   1000\n",
       "extranjero                 1000\n",
       "credito_pagado             1000\n",
       "dtype: int64"
      ]
     },
     "execution_count": 70,
     "metadata": {},
     "output_type": "execute_result"
    }
   ],
   "source": [
    "banco_datos.count()"
   ]
  },
  {
   "cell_type": "markdown",
   "metadata": {},
   "source": [
    "En esta base de datos hay 21 variables las cuales nos dan informacion sobre cada prestamo que serian 1000 de distintos clientes sin embargo en las variables saldo_cuenta_ahorro, aval y planes de pago se observa que hay perdidas de datos "
   ]
  },
  {
   "cell_type": "markdown",
   "metadata": {},
   "source": [
    "#### b)Cuál es el monto promedio de los créditos otorgados por el banco"
   ]
  },
  {
   "cell_type": "code",
   "execution_count": 36,
   "metadata": {},
   "outputs": [
    {
     "name": "stdout",
     "output_type": "stream",
     "text": [
      "El monto promedio de los creditos otorgados por el banco es de :  3271.258 euros\n"
     ]
    }
   ],
   "source": [
    "prom_credito= banco_datos['cantidad'].mean()\n",
    "\n",
    "print(\"El monto promedio de los creditos otorgados por el banco es de : \",prom_credito,'euros')"
   ]
  },
  {
   "cell_type": "markdown",
   "metadata": {},
   "source": [
    "#### c) Cuál es  el  tiempo  promedio  que  se  tardaron  en  pagar  el  préstamo  los que pagaron el préstamo en su totalidad"
   ]
  },
  {
   "cell_type": "markdown",
   "metadata": {},
   "source": [
    "Donde\n",
    "\n",
    " La variable \"crédito_pagado\" toma el valor de 1 si el cliente ha pagado completamente el préstamo y 0 si no lo ha hecho o aún no ha terminado de pagar."
   ]
  },
  {
   "cell_type": "code",
   "execution_count": 37,
   "metadata": {},
   "outputs": [],
   "source": [
    "pagado= banco_datos.query('credito_pagado==1')\n",
    "tiempo_promedio_en_pagar=pagado['meses'].mean().round(3)"
   ]
  },
  {
   "cell_type": "code",
   "execution_count": 38,
   "metadata": {},
   "outputs": [
    {
     "name": "stdout",
     "output_type": "stream",
     "text": [
      "Por lo que el tiempo promedio que se tardaron en pagar el prestamo  los que pagaron el prestamo en su totalidad es de :  19.207 meses\n"
     ]
    }
   ],
   "source": [
    "print('Por lo que el tiempo promedio que se tardaron en pagar el prestamo  los que pagaron el prestamo en su totalidad es de : ',tiempo_promedio_en_pagar, 'meses')"
   ]
  },
  {
   "cell_type": "markdown",
   "metadata": {},
   "source": [
    "#### d)Cuál es la tasa de interés promedio otorgada por el banco"
   ]
  },
  {
   "cell_type": "code",
   "execution_count": 39,
   "metadata": {},
   "outputs": [
    {
     "name": "stdout",
     "output_type": "stream",
     "text": [
      "La tasa de interes promedio otorgada por el banco es de :  2.973\n"
     ]
    }
   ],
   "source": [
    "prom_tasa= banco_datos['tasa_de_interes'].mean()\n",
    "\n",
    "print(\"La tasa de interes promedio otorgada por el banco es de : \",prom_tasa)"
   ]
  },
  {
   "cell_type": "markdown",
   "metadata": {},
   "source": [
    "#### e) Cuál es el monto promedio y la tasa de interés promedio de los que ya pagaron"
   ]
  },
  {
   "cell_type": "code",
   "execution_count": 60,
   "metadata": {},
   "outputs": [
    {
     "name": "stdout",
     "output_type": "stream",
     "text": [
      "La tasa de interes promedio y el monto promedio de los que ya pagaron es de :  2.92 y 2985.457 respectivamente\n"
     ]
    }
   ],
   "source": [
    "prom_pagado= pagado[['tasa_de_interes','cantidad']].mean().round(3)\n",
    "\n",
    "print(\"La tasa de interes promedio y el monto promedio de los que ya pagaron es de : \",prom_pagado[0],'y',prom_pagado[1],'respectivamente')"
   ]
  },
  {
   "cell_type": "markdown",
   "metadata": {},
   "source": [
    "#### f) Cuál es el monto promedio y la tasa de interés promedio de los que no han pagado\n"
   ]
  },
  {
   "cell_type": "code",
   "execution_count": 61,
   "metadata": {},
   "outputs": [
    {
     "name": "stdout",
     "output_type": "stream",
     "text": [
      "La tasa de interes promedio y el monto promedio de los que no han pagado es de :  3.097 y 3938.127 respectivamente\n"
     ]
    }
   ],
   "source": [
    "no_pagado= banco_datos.query('credito_pagado==0')\n",
    "\n",
    "prom_no_pagado= no_pagado[['tasa_de_interes','cantidad']].mean().round(3)\n",
    "\n",
    "print(\"La tasa de interes promedio y el monto promedio de los que no han pagado es de : \",prom_no_pagado[0],'y',prom_no_pagado[1],'respectivamente')\n"
   ]
  },
  {
   "cell_type": "markdown",
   "metadata": {},
   "source": [
    "### 2.Estime un modelo de Kaplan-meier "
   ]
  },
  {
   "cell_type": "code",
   "execution_count": 42,
   "metadata": {},
   "outputs": [],
   "source": [
    "#Estimador \n",
    "km= KaplanMeierFitter().fit(banco_datos['meses'], banco_datos['credito_pagado'])"
   ]
  },
  {
   "cell_type": "markdown",
   "metadata": {},
   "source": [
    "#### a) Cuál es la mediana del tiempo y que significa"
   ]
  },
  {
   "cell_type": "code",
   "execution_count": 43,
   "metadata": {},
   "outputs": [
    {
     "data": {
      "text/plain": [
       "24.0"
      ]
     },
     "execution_count": 43,
     "metadata": {},
     "output_type": "execute_result"
    }
   ],
   "source": [
    "#Mediana\n",
    "km.median_survival_time_"
   ]
  },
  {
   "cell_type": "markdown",
   "metadata": {},
   "source": [
    "**La mediana del tiempo de supervivencia es de 24 meses, significa que la mitad de los clientes que han terminado de pagar estan por arriba o por abajo de 24 meses .**"
   ]
  },
  {
   "cell_type": "markdown",
   "metadata": {},
   "source": [
    "#### b)es mayor/menor que el tiempo promedio del inciso 1c"
   ]
  },
  {
   "cell_type": "markdown",
   "metadata": {},
   "source": [
    "Es mayor ya que en el inciso 1c nos dice que es de 19.207 meses el tiempo promedio que se tardaron en pagar los que pagaron el prestamo en su totalidad y aqui nos dice que la mitad de los clientes que han terminado de pagar el prestamo tardan arriba de 24 meses o abajo de 24 meses."
   ]
  },
  {
   "cell_type": "markdown",
   "metadata": {},
   "source": [
    "### 3.Determine si el riesgo de que el préstamo se pague en su totalidad es constante,creciente, decreciente, o tipo log-normal respecto al tiempo"
   ]
  },
  {
   "cell_type": "code",
   "execution_count": 44,
   "metadata": {},
   "outputs": [],
   "source": [
    "# ExponentialFitter().fit(tiempo sup,censura/evento)\n",
    "exp = ExponentialFitter().fit(banco_datos['meses'],banco_datos['credito_pagado'])"
   ]
  },
  {
   "cell_type": "code",
   "execution_count": 45,
   "metadata": {},
   "outputs": [
    {
     "data": {
      "image/png": "[encoded data removed]",
      "text/plain": [
       "<Figure size 640x480 with 1 Axes>"
      ]
     },
     "metadata": {},
     "output_type": "display_data"
    }
   ],
   "source": [
    "# graficar h(t)\n",
    "exp.plot_hazard();\n",
    "plt.title('Funcion Riesgo $h(t)$ exponencial');\n"
   ]
  },
  {
   "cell_type": "code",
   "execution_count": 46,
   "metadata": {},
   "outputs": [],
   "source": [
    "# WeibullFitter().fit(tiempo sup,evento/censura)\n",
    "\n",
    "weibull = WeibullFitter().fit(banco_datos['meses'],banco_datos['credito_pagado'])"
   ]
  },
  {
   "cell_type": "code",
   "execution_count": 47,
   "metadata": {},
   "outputs": [
    {
     "data": {
      "image/png": "[encoded data removed]",
      "text/plain": [
       "<Figure size 640x480 with 1 Axes>"
      ]
     },
     "metadata": {},
     "output_type": "display_data"
    }
   ],
   "source": [
    "weibull.plot_hazard()\n",
    "plt.title('Funcion Riesgo de una Weibull $h(t)$')\n",
    "plt.xlim(min(banco_datos['meses']),max(banco_datos['meses']));"
   ]
  },
  {
   "cell_type": "code",
   "execution_count": 48,
   "metadata": {},
   "outputs": [],
   "source": [
    "logn = LogNormalFitter().fit(banco_datos['meses'],banco_datos['credito_pagado'])"
   ]
  },
  {
   "cell_type": "code",
   "execution_count": 49,
   "metadata": {},
   "outputs": [
    {
     "data": {
      "image/png": "[encoded data removed]",
      "text/plain": [
       "<Figure size 640x480 with 1 Axes>"
      ]
     },
     "metadata": {},
     "output_type": "display_data"
    }
   ],
   "source": [
    "# Función de Riesgo log normal \n",
    "\n",
    "logn.plot_hazard()\n",
    "plt.title('Funcion de riesgo de log-normal ')\n",
    "plt.xlim(min(banco_datos['meses']),max(banco_datos['meses']));"
   ]
  },
  {
   "cell_type": "markdown",
   "metadata": {},
   "source": [
    "¿ El tiempo de supervivencia es exponencial, weibull o log normal? "
   ]
  },
  {
   "cell_type": "code",
   "execution_count": 50,
   "metadata": {},
   "outputs": [
    {
     "name": "stdout",
     "output_type": "stream",
     "text": [
      "Exponencial: 6157.19 , Weibull: 5900.98 , Log-Normal: 5813.75\n"
     ]
    }
   ],
   "source": [
    "print('Exponencial:', exp.AIC_.round(2) ,', Weibull:', weibull.AIC_.round(2), ', Log-Normal:', logn.AIC_.round(2))"
   ]
  },
  {
   "cell_type": "markdown",
   "metadata": {},
   "source": [
    "De acuerdo con AIC el \"mejor\" modelo es Log-Normal, el riesgo de que el préstamo se pague en su totalidad es creciente en los primeros meses y comienza a ser decreciente a partir de los 30 meses"
   ]
  },
  {
   "cell_type": "markdown",
   "metadata": {},
   "source": [
    "### 4.Estimar un modelo de Cox para ver qué factores influyen sobre el riesgo de que el préstamo se pague en su totalidad"
   ]
  },
  {
   "cell_type": "markdown",
   "metadata": {},
   "source": [
    "#### a) A parte de “tasa de interes” y “cantidad”, elige otras cuatro variables que creas que afectan el riesgo del evento"
   ]
  },
  {
   "cell_type": "markdown",
   "metadata": {},
   "source": [
    "Las variables que seleccionare que creo que afectan el riesgo del evento seran :\n",
    "saldo_cuenta_ahorro,casa,historia_crediticia,edad\n",
    "\n"
   ]
  },
  {
   "cell_type": "markdown",
   "metadata": {},
   "source": [
    "#### b) Di si cada una de las 6 variables que elegiste, aumentan/disminuyen el riesgo del evento y por qué"
   ]
  },
  {
   "cell_type": "markdown",
   "metadata": {},
   "source": [
    "Variable saldo_cuenta_ahorro\n",
    "\n",
    "Esta variable puede aumentar el riesgo del evento , es decir porque si si tiene saldo en su una cuenta de ahorro signfica que el riesgo de que el préstamo se pague en su totalidad para mi es mayor la probabilidad de que si pague , en cambio que no tenga una cuenta de ahorro para mi no es tan seguro de que pueda pagar el prestamo"
   ]
  },
  {
   "cell_type": "markdown",
   "metadata": {},
   "source": [
    "Variable casa\n",
    "\n",
    "Esta variable puede aumentar o disminuir el riesgo del evento si tiene casa propia o tiene casa prestada o renta , porque podemos pensar que una persona con casa propia puede tener mejores ingresos que alguien que no tiene casa propia. "
   ]
  },
  {
   "cell_type": "markdown",
   "metadata": {},
   "source": [
    "Variable historia_crediticia\n",
    "\n",
    "Esta variable puede aumentar el riesgo del evento o disminuir dependiendo el historial credticio si si ha pagado o no pagado un credito "
   ]
  },
  {
   "cell_type": "markdown",
   "metadata": {},
   "source": [
    "Variable edad \n",
    "\n",
    "Esta variable puede aumentar el riesgo del evento en las personas mayores porque pueden tener mas experiencia en lo que es pagar un prestamo"
   ]
  },
  {
   "cell_type": "markdown",
   "metadata": {},
   "source": [
    "Variable tasa de interes \n",
    "\n",
    "Esta variable puede disminuir el riesgo del evento si su tasa de interes es alta porque puede que la persona sea incapaz de poder seguir pagando el prestamo"
   ]
  },
  {
   "cell_type": "markdown",
   "metadata": {},
   "source": [
    "Variable cantidad \n",
    "\n",
    "Esta variable puede disminuir el riesgo del evento si la cantidad del préstamo otorgado es muy alta porque es un prestamo que puede tardarse mas tiempo en pagar "
   ]
  },
  {
   "cell_type": "markdown",
   "metadata": {},
   "source": [
    "#### c) Realiza las transformaciones adecuadas para utilizar las variables en un modelo de cox"
   ]
  },
  {
   "cell_type": "code",
   "execution_count": 51,
   "metadata": {},
   "outputs": [
    {
     "data": {
      "text/plain": [
       "credito_pagado           0\n",
       "meses                    0\n",
       "saldo_cuenta_ahorro    183\n",
       "casa                     0\n",
       "historia_crediticia      0\n",
       "edad                     0\n",
       "tasa_de_interes          0\n",
       "cantidad                 0\n",
       "dtype: int64"
      ]
     },
     "execution_count": 51,
     "metadata": {},
     "output_type": "execute_result"
    }
   ],
   "source": [
    "# Verificar que no haya missing values, en caso de haberlos decidir imputar o eliminar\n",
    "\n",
    "# contar los valores perdidos / faltantes (missing)\n",
    "var_afectan=banco_datos[['credito_pagado','meses','saldo_cuenta_ahorro','casa','historia_crediticia','edad','tasa_de_interes' ,'cantidad']]\n",
    "\n",
    "var_afectan.isnull().sum()"
   ]
  },
  {
   "cell_type": "markdown",
   "metadata": {},
   "source": [
    "En la variable saldo_cuenta_ahorro hay valores perdidos por lo que eliminaremos los valores perdidos "
   ]
  },
  {
   "cell_type": "code",
   "execution_count": 52,
   "metadata": {},
   "outputs": [],
   "source": [
    "# Eliminar las observaciones con valores perdidos \n",
    "var_afectan= var_afectan.dropna()"
   ]
  },
  {
   "cell_type": "code",
   "execution_count": 53,
   "metadata": {},
   "outputs": [
    {
     "data": {
      "text/html": [
       "<div>\n",
       "<style scoped>\n",
       "    .dataframe tbody tr th:only-of-type {\n",
       "        vertical-align: middle;\n",
       "    }\n",
       "\n",
       "    .dataframe tbody tr th {\n",
       "        vertical-align: top;\n",
       "    }\n",
       "\n",
       "    .dataframe thead th {\n",
       "        text-align: right;\n",
       "    }\n",
       "</style>\n",
       "<table border=\"1\" class=\"dataframe\">\n",
       "  <thead>\n",
       "    <tr style=\"text-align: right;\">\n",
       "      <th></th>\n",
       "      <th>credito_pagado</th>\n",
       "      <th>meses</th>\n",
       "      <th>saldo_cuenta_ahorro</th>\n",
       "      <th>casa</th>\n",
       "      <th>historia_crediticia</th>\n",
       "      <th>edad</th>\n",
       "      <th>tasa_de_interes</th>\n",
       "      <th>cantidad</th>\n",
       "    </tr>\n",
       "  </thead>\n",
       "  <tbody>\n",
       "    <tr>\n",
       "      <th>1</th>\n",
       "      <td>0</td>\n",
       "      <td>48</td>\n",
       "      <td>menor_100</td>\n",
       "      <td>propia</td>\n",
       "      <td>pago_algun_credito</td>\n",
       "      <td>22</td>\n",
       "      <td>2</td>\n",
       "      <td>5951</td>\n",
       "    </tr>\n",
       "    <tr>\n",
       "      <th>2</th>\n",
       "      <td>1</td>\n",
       "      <td>12</td>\n",
       "      <td>menor_100</td>\n",
       "      <td>propia</td>\n",
       "      <td>no_ha_pagado</td>\n",
       "      <td>49</td>\n",
       "      <td>2</td>\n",
       "      <td>2096</td>\n",
       "    </tr>\n",
       "    <tr>\n",
       "      <th>3</th>\n",
       "      <td>1</td>\n",
       "      <td>42</td>\n",
       "      <td>menor_100</td>\n",
       "      <td>prestada</td>\n",
       "      <td>pago_algun_credito</td>\n",
       "      <td>45</td>\n",
       "      <td>2</td>\n",
       "      <td>7882</td>\n",
       "    </tr>\n",
       "    <tr>\n",
       "      <th>4</th>\n",
       "      <td>0</td>\n",
       "      <td>24</td>\n",
       "      <td>menor_100</td>\n",
       "      <td>prestada</td>\n",
       "      <td>pago_retrasado</td>\n",
       "      <td>53</td>\n",
       "      <td>3</td>\n",
       "      <td>4870</td>\n",
       "    </tr>\n",
       "    <tr>\n",
       "      <th>6</th>\n",
       "      <td>1</td>\n",
       "      <td>24</td>\n",
       "      <td>500_a_1000</td>\n",
       "      <td>propia</td>\n",
       "      <td>pago_algun_credito</td>\n",
       "      <td>53</td>\n",
       "      <td>3</td>\n",
       "      <td>2835</td>\n",
       "    </tr>\n",
       "    <tr>\n",
       "      <th>...</th>\n",
       "      <td>...</td>\n",
       "      <td>...</td>\n",
       "      <td>...</td>\n",
       "      <td>...</td>\n",
       "      <td>...</td>\n",
       "      <td>...</td>\n",
       "      <td>...</td>\n",
       "      <td>...</td>\n",
       "    </tr>\n",
       "    <tr>\n",
       "      <th>995</th>\n",
       "      <td>1</td>\n",
       "      <td>12</td>\n",
       "      <td>menor_100</td>\n",
       "      <td>propia</td>\n",
       "      <td>pago_algun_credito</td>\n",
       "      <td>31</td>\n",
       "      <td>3</td>\n",
       "      <td>1736</td>\n",
       "    </tr>\n",
       "    <tr>\n",
       "      <th>996</th>\n",
       "      <td>1</td>\n",
       "      <td>30</td>\n",
       "      <td>menor_100</td>\n",
       "      <td>propia</td>\n",
       "      <td>pago_algun_credito</td>\n",
       "      <td>40</td>\n",
       "      <td>4</td>\n",
       "      <td>3857</td>\n",
       "    </tr>\n",
       "    <tr>\n",
       "      <th>997</th>\n",
       "      <td>1</td>\n",
       "      <td>12</td>\n",
       "      <td>menor_100</td>\n",
       "      <td>propia</td>\n",
       "      <td>pago_algun_credito</td>\n",
       "      <td>38</td>\n",
       "      <td>4</td>\n",
       "      <td>804</td>\n",
       "    </tr>\n",
       "    <tr>\n",
       "      <th>998</th>\n",
       "      <td>0</td>\n",
       "      <td>45</td>\n",
       "      <td>menor_100</td>\n",
       "      <td>prestada</td>\n",
       "      <td>pago_algun_credito</td>\n",
       "      <td>23</td>\n",
       "      <td>4</td>\n",
       "      <td>1845</td>\n",
       "    </tr>\n",
       "    <tr>\n",
       "      <th>999</th>\n",
       "      <td>1</td>\n",
       "      <td>45</td>\n",
       "      <td>100_a_500</td>\n",
       "      <td>propia</td>\n",
       "      <td>no_ha_pagado</td>\n",
       "      <td>27</td>\n",
       "      <td>3</td>\n",
       "      <td>4576</td>\n",
       "    </tr>\n",
       "  </tbody>\n",
       "</table>\n",
       "<p>817 rows × 8 columns</p>\n",
       "</div>"
      ],
      "text/plain": [
       "     credito_pagado  meses saldo_cuenta_ahorro      casa historia_crediticia  \\\n",
       "1                 0     48           menor_100    propia  pago_algun_credito   \n",
       "2                 1     12           menor_100    propia        no_ha_pagado   \n",
       "3                 1     42           menor_100  prestada  pago_algun_credito   \n",
       "4                 0     24           menor_100  prestada      pago_retrasado   \n",
       "6                 1     24          500_a_1000    propia  pago_algun_credito   \n",
       "..              ...    ...                 ...       ...                 ...   \n",
       "995               1     12           menor_100    propia  pago_algun_credito   \n",
       "996               1     30           menor_100    propia  pago_algun_credito   \n",
       "997               1     12           menor_100    propia  pago_algun_credito   \n",
       "998               0     45           menor_100  prestada  pago_algun_credito   \n",
       "999               1     45           100_a_500    propia        no_ha_pagado   \n",
       "\n",
       "     edad  tasa_de_interes  cantidad  \n",
       "1      22                2      5951  \n",
       "2      49                2      2096  \n",
       "3      45                2      7882  \n",
       "4      53                3      4870  \n",
       "6      53                3      2835  \n",
       "..    ...              ...       ...  \n",
       "995    31                3      1736  \n",
       "996    40                4      3857  \n",
       "997    38                4       804  \n",
       "998    23                4      1845  \n",
       "999    27                3      4576  \n",
       "\n",
       "[817 rows x 8 columns]"
      ]
     },
     "execution_count": 53,
     "metadata": {},
     "output_type": "execute_result"
    }
   ],
   "source": [
    "var_afectan"
   ]
  },
  {
   "cell_type": "code",
   "execution_count": 54,
   "metadata": {},
   "outputs": [
    {
     "data": {
      "text/plain": [
       "credito_pagado          int64\n",
       "meses                   int64\n",
       "saldo_cuenta_ahorro    object\n",
       "casa                   object\n",
       "historia_crediticia    object\n",
       "edad                    int64\n",
       "tasa_de_interes         int64\n",
       "cantidad                int64\n",
       "dtype: object"
      ]
     },
     "execution_count": 54,
     "metadata": {},
     "output_type": "execute_result"
    }
   ],
   "source": [
    "# verificar que las variables son numericas\n",
    "var_afectan.dtypes"
   ]
  },
  {
   "cell_type": "markdown",
   "metadata": {},
   "source": [
    "Observamos que no todas las variables son numericas "
   ]
  },
  {
   "cell_type": "code",
   "execution_count": 55,
   "metadata": {},
   "outputs": [
    {
     "data": {
      "text/html": [
       "<div>\n",
       "<style scoped>\n",
       "    .dataframe tbody tr th:only-of-type {\n",
       "        vertical-align: middle;\n",
       "    }\n",
       "\n",
       "    .dataframe tbody tr th {\n",
       "        vertical-align: top;\n",
       "    }\n",
       "\n",
       "    .dataframe thead th {\n",
       "        text-align: right;\n",
       "    }\n",
       "</style>\n",
       "<table border=\"1\" class=\"dataframe\">\n",
       "  <thead>\n",
       "    <tr style=\"text-align: right;\">\n",
       "      <th></th>\n",
       "      <th>credito_pagado</th>\n",
       "      <th>meses</th>\n",
       "      <th>edad</th>\n",
       "      <th>tasa_de_interes</th>\n",
       "      <th>cantidad</th>\n",
       "      <th>saldo_cuenta_ahorro_100_a_500</th>\n",
       "      <th>saldo_cuenta_ahorro_500_a_1000</th>\n",
       "      <th>saldo_cuenta_ahorro_mas_de_1000</th>\n",
       "      <th>saldo_cuenta_ahorro_menor_100</th>\n",
       "      <th>casa_prestada</th>\n",
       "      <th>casa_propia</th>\n",
       "      <th>casa_renta</th>\n",
       "      <th>historia_crediticia_no_ha_pagado</th>\n",
       "      <th>historia_crediticia_pago_algun_credito</th>\n",
       "      <th>historia_crediticia_pago_retrasado</th>\n",
       "      <th>historia_crediticia_pago_todos</th>\n",
       "      <th>historia_crediticia_sin_creditos</th>\n",
       "    </tr>\n",
       "  </thead>\n",
       "  <tbody>\n",
       "    <tr>\n",
       "      <th>1</th>\n",
       "      <td>0</td>\n",
       "      <td>48</td>\n",
       "      <td>22</td>\n",
       "      <td>2</td>\n",
       "      <td>5951</td>\n",
       "      <td>0</td>\n",
       "      <td>0</td>\n",
       "      <td>0</td>\n",
       "      <td>1</td>\n",
       "      <td>0</td>\n",
       "      <td>1</td>\n",
       "      <td>0</td>\n",
       "      <td>0</td>\n",
       "      <td>1</td>\n",
       "      <td>0</td>\n",
       "      <td>0</td>\n",
       "      <td>0</td>\n",
       "    </tr>\n",
       "    <tr>\n",
       "      <th>2</th>\n",
       "      <td>1</td>\n",
       "      <td>12</td>\n",
       "      <td>49</td>\n",
       "      <td>2</td>\n",
       "      <td>2096</td>\n",
       "      <td>0</td>\n",
       "      <td>0</td>\n",
       "      <td>0</td>\n",
       "      <td>1</td>\n",
       "      <td>0</td>\n",
       "      <td>1</td>\n",
       "      <td>0</td>\n",
       "      <td>1</td>\n",
       "      <td>0</td>\n",
       "      <td>0</td>\n",
       "      <td>0</td>\n",
       "      <td>0</td>\n",
       "    </tr>\n",
       "    <tr>\n",
       "      <th>3</th>\n",
       "      <td>1</td>\n",
       "      <td>42</td>\n",
       "      <td>45</td>\n",
       "      <td>2</td>\n",
       "      <td>7882</td>\n",
       "      <td>0</td>\n",
       "      <td>0</td>\n",
       "      <td>0</td>\n",
       "      <td>1</td>\n",
       "      <td>1</td>\n",
       "      <td>0</td>\n",
       "      <td>0</td>\n",
       "      <td>0</td>\n",
       "      <td>1</td>\n",
       "      <td>0</td>\n",
       "      <td>0</td>\n",
       "      <td>0</td>\n",
       "    </tr>\n",
       "    <tr>\n",
       "      <th>4</th>\n",
       "      <td>0</td>\n",
       "      <td>24</td>\n",
       "      <td>53</td>\n",
       "      <td>3</td>\n",
       "      <td>4870</td>\n",
       "      <td>0</td>\n",
       "      <td>0</td>\n",
       "      <td>0</td>\n",
       "      <td>1</td>\n",
       "      <td>1</td>\n",
       "      <td>0</td>\n",
       "      <td>0</td>\n",
       "      <td>0</td>\n",
       "      <td>0</td>\n",
       "      <td>1</td>\n",
       "      <td>0</td>\n",
       "      <td>0</td>\n",
       "    </tr>\n",
       "    <tr>\n",
       "      <th>6</th>\n",
       "      <td>1</td>\n",
       "      <td>24</td>\n",
       "      <td>53</td>\n",
       "      <td>3</td>\n",
       "      <td>2835</td>\n",
       "      <td>0</td>\n",
       "      <td>1</td>\n",
       "      <td>0</td>\n",
       "      <td>0</td>\n",
       "      <td>0</td>\n",
       "      <td>1</td>\n",
       "      <td>0</td>\n",
       "      <td>0</td>\n",
       "      <td>1</td>\n",
       "      <td>0</td>\n",
       "      <td>0</td>\n",
       "      <td>0</td>\n",
       "    </tr>\n",
       "    <tr>\n",
       "      <th>...</th>\n",
       "      <td>...</td>\n",
       "      <td>...</td>\n",
       "      <td>...</td>\n",
       "      <td>...</td>\n",
       "      <td>...</td>\n",
       "      <td>...</td>\n",
       "      <td>...</td>\n",
       "      <td>...</td>\n",
       "      <td>...</td>\n",
       "      <td>...</td>\n",
       "      <td>...</td>\n",
       "      <td>...</td>\n",
       "      <td>...</td>\n",
       "      <td>...</td>\n",
       "      <td>...</td>\n",
       "      <td>...</td>\n",
       "      <td>...</td>\n",
       "    </tr>\n",
       "    <tr>\n",
       "      <th>995</th>\n",
       "      <td>1</td>\n",
       "      <td>12</td>\n",
       "      <td>31</td>\n",
       "      <td>3</td>\n",
       "      <td>1736</td>\n",
       "      <td>0</td>\n",
       "      <td>0</td>\n",
       "      <td>0</td>\n",
       "      <td>1</td>\n",
       "      <td>0</td>\n",
       "      <td>1</td>\n",
       "      <td>0</td>\n",
       "      <td>0</td>\n",
       "      <td>1</td>\n",
       "      <td>0</td>\n",
       "      <td>0</td>\n",
       "      <td>0</td>\n",
       "    </tr>\n",
       "    <tr>\n",
       "      <th>996</th>\n",
       "      <td>1</td>\n",
       "      <td>30</td>\n",
       "      <td>40</td>\n",
       "      <td>4</td>\n",
       "      <td>3857</td>\n",
       "      <td>0</td>\n",
       "      <td>0</td>\n",
       "      <td>0</td>\n",
       "      <td>1</td>\n",
       "      <td>0</td>\n",
       "      <td>1</td>\n",
       "      <td>0</td>\n",
       "      <td>0</td>\n",
       "      <td>1</td>\n",
       "      <td>0</td>\n",
       "      <td>0</td>\n",
       "      <td>0</td>\n",
       "    </tr>\n",
       "    <tr>\n",
       "      <th>997</th>\n",
       "      <td>1</td>\n",
       "      <td>12</td>\n",
       "      <td>38</td>\n",
       "      <td>4</td>\n",
       "      <td>804</td>\n",
       "      <td>0</td>\n",
       "      <td>0</td>\n",
       "      <td>0</td>\n",
       "      <td>1</td>\n",
       "      <td>0</td>\n",
       "      <td>1</td>\n",
       "      <td>0</td>\n",
       "      <td>0</td>\n",
       "      <td>1</td>\n",
       "      <td>0</td>\n",
       "      <td>0</td>\n",
       "      <td>0</td>\n",
       "    </tr>\n",
       "    <tr>\n",
       "      <th>998</th>\n",
       "      <td>0</td>\n",
       "      <td>45</td>\n",
       "      <td>23</td>\n",
       "      <td>4</td>\n",
       "      <td>1845</td>\n",
       "      <td>0</td>\n",
       "      <td>0</td>\n",
       "      <td>0</td>\n",
       "      <td>1</td>\n",
       "      <td>1</td>\n",
       "      <td>0</td>\n",
       "      <td>0</td>\n",
       "      <td>0</td>\n",
       "      <td>1</td>\n",
       "      <td>0</td>\n",
       "      <td>0</td>\n",
       "      <td>0</td>\n",
       "    </tr>\n",
       "    <tr>\n",
       "      <th>999</th>\n",
       "      <td>1</td>\n",
       "      <td>45</td>\n",
       "      <td>27</td>\n",
       "      <td>3</td>\n",
       "      <td>4576</td>\n",
       "      <td>1</td>\n",
       "      <td>0</td>\n",
       "      <td>0</td>\n",
       "      <td>0</td>\n",
       "      <td>0</td>\n",
       "      <td>1</td>\n",
       "      <td>0</td>\n",
       "      <td>1</td>\n",
       "      <td>0</td>\n",
       "      <td>0</td>\n",
       "      <td>0</td>\n",
       "      <td>0</td>\n",
       "    </tr>\n",
       "  </tbody>\n",
       "</table>\n",
       "<p>817 rows × 17 columns</p>\n",
       "</div>"
      ],
      "text/plain": [
       "     credito_pagado  meses  edad  tasa_de_interes  cantidad  \\\n",
       "1                 0     48    22                2      5951   \n",
       "2                 1     12    49                2      2096   \n",
       "3                 1     42    45                2      7882   \n",
       "4                 0     24    53                3      4870   \n",
       "6                 1     24    53                3      2835   \n",
       "..              ...    ...   ...              ...       ...   \n",
       "995               1     12    31                3      1736   \n",
       "996               1     30    40                4      3857   \n",
       "997               1     12    38                4       804   \n",
       "998               0     45    23                4      1845   \n",
       "999               1     45    27                3      4576   \n",
       "\n",
       "     saldo_cuenta_ahorro_100_a_500  saldo_cuenta_ahorro_500_a_1000  \\\n",
       "1                                0                               0   \n",
       "2                                0                               0   \n",
       "3                                0                               0   \n",
       "4                                0                               0   \n",
       "6                                0                               1   \n",
       "..                             ...                             ...   \n",
       "995                              0                               0   \n",
       "996                              0                               0   \n",
       "997                              0                               0   \n",
       "998                              0                               0   \n",
       "999                              1                               0   \n",
       "\n",
       "     saldo_cuenta_ahorro_mas_de_1000  saldo_cuenta_ahorro_menor_100  \\\n",
       "1                                  0                              1   \n",
       "2                                  0                              1   \n",
       "3                                  0                              1   \n",
       "4                                  0                              1   \n",
       "6                                  0                              0   \n",
       "..                               ...                            ...   \n",
       "995                                0                              1   \n",
       "996                                0                              1   \n",
       "997                                0                              1   \n",
       "998                                0                              1   \n",
       "999                                0                              0   \n",
       "\n",
       "     casa_prestada  casa_propia  casa_renta  historia_crediticia_no_ha_pagado  \\\n",
       "1                0            1           0                                 0   \n",
       "2                0            1           0                                 1   \n",
       "3                1            0           0                                 0   \n",
       "4                1            0           0                                 0   \n",
       "6                0            1           0                                 0   \n",
       "..             ...          ...         ...                               ...   \n",
       "995              0            1           0                                 0   \n",
       "996              0            1           0                                 0   \n",
       "997              0            1           0                                 0   \n",
       "998              1            0           0                                 0   \n",
       "999              0            1           0                                 1   \n",
       "\n",
       "     historia_crediticia_pago_algun_credito  \\\n",
       "1                                         1   \n",
       "2                                         0   \n",
       "3                                         1   \n",
       "4                                         0   \n",
       "6                                         1   \n",
       "..                                      ...   \n",
       "995                                       1   \n",
       "996                                       1   \n",
       "997                                       1   \n",
       "998                                       1   \n",
       "999                                       0   \n",
       "\n",
       "     historia_crediticia_pago_retrasado  historia_crediticia_pago_todos  \\\n",
       "1                                     0                               0   \n",
       "2                                     0                               0   \n",
       "3                                     0                               0   \n",
       "4                                     1                               0   \n",
       "6                                     0                               0   \n",
       "..                                  ...                             ...   \n",
       "995                                   0                               0   \n",
       "996                                   0                               0   \n",
       "997                                   0                               0   \n",
       "998                                   0                               0   \n",
       "999                                   0                               0   \n",
       "\n",
       "     historia_crediticia_sin_creditos  \n",
       "1                                   0  \n",
       "2                                   0  \n",
       "3                                   0  \n",
       "4                                   0  \n",
       "6                                   0  \n",
       "..                                ...  \n",
       "995                                 0  \n",
       "996                                 0  \n",
       "997                                 0  \n",
       "998                                 0  \n",
       "999                                 0  \n",
       "\n",
       "[817 rows x 17 columns]"
      ]
     },
     "execution_count": 55,
     "metadata": {},
     "output_type": "execute_result"
    }
   ],
   "source": [
    "# Convertimos en dummies las variables categoricas \n",
    "\n",
    "var_dummies =pd.get_dummies(var_afectan,columns=['saldo_cuenta_ahorro','casa','historia_crediticia'])\n",
    "var_dummies\n"
   ]
  },
  {
   "cell_type": "code",
   "execution_count": 56,
   "metadata": {},
   "outputs": [],
   "source": [
    "#  Dejamos una dummie afuera\n",
    "var_dummies= var_dummies.drop(['saldo_cuenta_ahorro_menor_100','casa_prestada','historia_crediticia_sin_creditos'],axis=1)"
   ]
  },
  {
   "cell_type": "markdown",
   "metadata": {},
   "source": [
    "#### d) Estima un modelo de cox con las variables elegidas e interpreta los coeficientes."
   ]
  },
  {
   "cell_type": "code",
   "execution_count": 57,
   "metadata": {},
   "outputs": [
    {
     "data": {
      "text/plain": [
       "<lifelines.CoxPHFitter: fitted with 817 total observations, 268 right-censored observations>"
      ]
     },
     "execution_count": 57,
     "metadata": {},
     "output_type": "execute_result"
    }
   ],
   "source": [
    "# estimar el modelo \n",
    "cph1 = CoxPHFitter()\n",
    "cph1.fit(var_dummies,'meses','credito_pagado')"
   ]
  },
  {
   "cell_type": "code",
   "execution_count": 58,
   "metadata": {},
   "outputs": [
    {
     "data": {
      "text/html": [
       "<div>\n",
       "<style scoped>\n",
       "    .dataframe tbody tr th:only-of-type {\n",
       "        vertical-align: middle;\n",
       "    }\n",
       "\n",
       "    .dataframe tbody tr th {\n",
       "        vertical-align: top;\n",
       "    }\n",
       "\n",
       "    .dataframe thead th {\n",
       "        text-align: right;\n",
       "    }\n",
       "</style>\n",
       "<table border=\"1\" class=\"dataframe\">\n",
       "  <tbody>\n",
       "    <tr>\n",
       "      <th>model</th>\n",
       "      <td>lifelines.CoxPHFitter</td>\n",
       "    </tr>\n",
       "    <tr>\n",
       "      <th>duration col</th>\n",
       "      <td>'meses'</td>\n",
       "    </tr>\n",
       "    <tr>\n",
       "      <th>event col</th>\n",
       "      <td>'credito_pagado'</td>\n",
       "    </tr>\n",
       "    <tr>\n",
       "      <th>baseline estimation</th>\n",
       "      <td>breslow</td>\n",
       "    </tr>\n",
       "    <tr>\n",
       "      <th>number of observations</th>\n",
       "      <td>817</td>\n",
       "    </tr>\n",
       "    <tr>\n",
       "      <th>number of events observed</th>\n",
       "      <td>549</td>\n",
       "    </tr>\n",
       "    <tr>\n",
       "      <th>partial log-likelihood</th>\n",
       "      <td>-3067.98</td>\n",
       "    </tr>\n",
       "    <tr>\n",
       "      <th>time fit was run</th>\n",
       "      <td>2023-10-05 19:56:01 UTC</td>\n",
       "    </tr>\n",
       "  </tbody>\n",
       "</table>\n",
       "</div><table border=\"1\" class=\"dataframe\">\n",
       "  <thead>\n",
       "    <tr style=\"text-align: right;\">\n",
       "      <th style=\"min-width: 12px;\"></th>\n",
       "      <th style=\"min-width: 12px;\">coef</th>\n",
       "      <th style=\"min-width: 12px;\">exp(coef)</th>\n",
       "      <th style=\"min-width: 12px;\">se(coef)</th>\n",
       "      <th style=\"min-width: 12px;\">coef lower 95%</th>\n",
       "      <th style=\"min-width: 12px;\">coef upper 95%</th>\n",
       "      <th style=\"min-width: 12px;\">exp(coef) lower 95%</th>\n",
       "      <th style=\"min-width: 12px;\">exp(coef) upper 95%</th>\n",
       "      <th style=\"min-width: 12px;\">cmp to</th>\n",
       "      <th style=\"min-width: 12px;\">z</th>\n",
       "      <th style=\"min-width: 12px;\">p</th>\n",
       "      <th style=\"min-width: 12px;\">-log2(p)</th>\n",
       "    </tr>\n",
       "  </thead>\n",
       "  <tbody>\n",
       "    <tr>\n",
       "      <th>edad</th>\n",
       "      <td>0.01</td>\n",
       "      <td>1.01</td>\n",
       "      <td>0.00</td>\n",
       "      <td>0.01</td>\n",
       "      <td>0.02</td>\n",
       "      <td>1.01</td>\n",
       "      <td>1.02</td>\n",
       "      <td>0.00</td>\n",
       "      <td>3.35</td>\n",
       "      <td>&lt;0.005</td>\n",
       "      <td>10.27</td>\n",
       "    </tr>\n",
       "    <tr>\n",
       "      <th>tasa_de_interes</th>\n",
       "      <td>-0.43</td>\n",
       "      <td>0.65</td>\n",
       "      <td>0.04</td>\n",
       "      <td>-0.52</td>\n",
       "      <td>-0.35</td>\n",
       "      <td>0.60</td>\n",
       "      <td>0.70</td>\n",
       "      <td>0.00</td>\n",
       "      <td>-10.49</td>\n",
       "      <td>&lt;0.005</td>\n",
       "      <td>83.08</td>\n",
       "    </tr>\n",
       "    <tr>\n",
       "      <th>cantidad</th>\n",
       "      <td>-0.00</td>\n",
       "      <td>1.00</td>\n",
       "      <td>0.00</td>\n",
       "      <td>-0.00</td>\n",
       "      <td>-0.00</td>\n",
       "      <td>1.00</td>\n",
       "      <td>1.00</td>\n",
       "      <td>0.00</td>\n",
       "      <td>-13.80</td>\n",
       "      <td>&lt;0.005</td>\n",
       "      <td>141.44</td>\n",
       "    </tr>\n",
       "    <tr>\n",
       "      <th>saldo_cuenta_ahorro_100_a_500</th>\n",
       "      <td>0.09</td>\n",
       "      <td>1.09</td>\n",
       "      <td>0.13</td>\n",
       "      <td>-0.17</td>\n",
       "      <td>0.35</td>\n",
       "      <td>0.84</td>\n",
       "      <td>1.42</td>\n",
       "      <td>0.00</td>\n",
       "      <td>0.68</td>\n",
       "      <td>0.50</td>\n",
       "      <td>1.01</td>\n",
       "    </tr>\n",
       "    <tr>\n",
       "      <th>saldo_cuenta_ahorro_500_a_1000</th>\n",
       "      <td>0.20</td>\n",
       "      <td>1.22</td>\n",
       "      <td>0.15</td>\n",
       "      <td>-0.10</td>\n",
       "      <td>0.49</td>\n",
       "      <td>0.91</td>\n",
       "      <td>1.63</td>\n",
       "      <td>0.00</td>\n",
       "      <td>1.31</td>\n",
       "      <td>0.19</td>\n",
       "      <td>2.40</td>\n",
       "    </tr>\n",
       "    <tr>\n",
       "      <th>saldo_cuenta_ahorro_mas_de_1000</th>\n",
       "      <td>0.27</td>\n",
       "      <td>1.31</td>\n",
       "      <td>0.17</td>\n",
       "      <td>-0.06</td>\n",
       "      <td>0.60</td>\n",
       "      <td>0.95</td>\n",
       "      <td>1.82</td>\n",
       "      <td>0.00</td>\n",
       "      <td>1.63</td>\n",
       "      <td>0.10</td>\n",
       "      <td>3.27</td>\n",
       "    </tr>\n",
       "    <tr>\n",
       "      <th>casa_propia</th>\n",
       "      <td>0.39</td>\n",
       "      <td>1.48</td>\n",
       "      <td>0.16</td>\n",
       "      <td>0.07</td>\n",
       "      <td>0.71</td>\n",
       "      <td>1.07</td>\n",
       "      <td>2.04</td>\n",
       "      <td>0.00</td>\n",
       "      <td>2.40</td>\n",
       "      <td>0.02</td>\n",
       "      <td>5.91</td>\n",
       "    </tr>\n",
       "    <tr>\n",
       "      <th>casa_renta</th>\n",
       "      <td>0.29</td>\n",
       "      <td>1.33</td>\n",
       "      <td>0.20</td>\n",
       "      <td>-0.10</td>\n",
       "      <td>0.67</td>\n",
       "      <td>0.91</td>\n",
       "      <td>1.96</td>\n",
       "      <td>0.00</td>\n",
       "      <td>1.45</td>\n",
       "      <td>0.15</td>\n",
       "      <td>2.77</td>\n",
       "    </tr>\n",
       "    <tr>\n",
       "      <th>historia_crediticia_no_ha_pagado</th>\n",
       "      <td>1.01</td>\n",
       "      <td>2.75</td>\n",
       "      <td>0.30</td>\n",
       "      <td>0.42</td>\n",
       "      <td>1.60</td>\n",
       "      <td>1.53</td>\n",
       "      <td>4.97</td>\n",
       "      <td>0.00</td>\n",
       "      <td>3.36</td>\n",
       "      <td>&lt;0.005</td>\n",
       "      <td>10.34</td>\n",
       "    </tr>\n",
       "    <tr>\n",
       "      <th>historia_crediticia_pago_algun_credito</th>\n",
       "      <td>0.67</td>\n",
       "      <td>1.95</td>\n",
       "      <td>0.30</td>\n",
       "      <td>0.08</td>\n",
       "      <td>1.25</td>\n",
       "      <td>1.09</td>\n",
       "      <td>3.49</td>\n",
       "      <td>0.00</td>\n",
       "      <td>2.24</td>\n",
       "      <td>0.03</td>\n",
       "      <td>5.30</td>\n",
       "    </tr>\n",
       "    <tr>\n",
       "      <th>historia_crediticia_pago_retrasado</th>\n",
       "      <td>0.46</td>\n",
       "      <td>1.58</td>\n",
       "      <td>0.33</td>\n",
       "      <td>-0.18</td>\n",
       "      <td>1.10</td>\n",
       "      <td>0.83</td>\n",
       "      <td>2.99</td>\n",
       "      <td>0.00</td>\n",
       "      <td>1.40</td>\n",
       "      <td>0.16</td>\n",
       "      <td>2.62</td>\n",
       "    </tr>\n",
       "    <tr>\n",
       "      <th>historia_crediticia_pago_todos</th>\n",
       "      <td>-0.09</td>\n",
       "      <td>0.91</td>\n",
       "      <td>0.38</td>\n",
       "      <td>-0.84</td>\n",
       "      <td>0.66</td>\n",
       "      <td>0.43</td>\n",
       "      <td>1.94</td>\n",
       "      <td>0.00</td>\n",
       "      <td>-0.23</td>\n",
       "      <td>0.82</td>\n",
       "      <td>0.29</td>\n",
       "    </tr>\n",
       "  </tbody>\n",
       "</table><br><div>\n",
       "<style scoped>\n",
       "    .dataframe tbody tr th:only-of-type {\n",
       "        vertical-align: middle;\n",
       "    }\n",
       "\n",
       "    .dataframe tbody tr th {\n",
       "        vertical-align: top;\n",
       "    }\n",
       "\n",
       "    .dataframe thead th {\n",
       "        text-align: right;\n",
       "    }\n",
       "</style>\n",
       "<table border=\"1\" class=\"dataframe\">\n",
       "  <tbody>\n",
       "    <tr>\n",
       "      <th>Concordance</th>\n",
       "      <td>0.78</td>\n",
       "    </tr>\n",
       "    <tr>\n",
       "      <th>Partial AIC</th>\n",
       "      <td>6159.95</td>\n",
       "    </tr>\n",
       "    <tr>\n",
       "      <th>log-likelihood ratio test</th>\n",
       "      <td>396.47 on 12 df</td>\n",
       "    </tr>\n",
       "    <tr>\n",
       "      <th>-log2(p) of ll-ratio test</th>\n",
       "      <td>254.71</td>\n",
       "    </tr>\n",
       "  </tbody>\n",
       "</table>\n",
       "</div>"
      ],
      "text/latex": [
       "\\begin{tabular}{lrrrrrrrrrrr}\n",
       " & coef & exp(coef) & se(coef) & coef lower 95% & coef upper 95% & exp(coef) lower 95% & exp(coef) upper 95% & cmp to & z & p & -log2(p) \\\\\n",
       "covariate &  &  &  &  &  &  &  &  &  &  &  \\\\\n",
       "edad & 0.01 & 1.01 & 0.00 & 0.01 & 0.02 & 1.01 & 1.02 & 0.00 & 3.35 & 0.00 & 10.27 \\\\\n",
       "tasa_de_interes & -0.43 & 0.65 & 0.04 & -0.52 & -0.35 & 0.60 & 0.70 & 0.00 & -10.49 & 0.00 & 83.08 \\\\\n",
       "cantidad & -0.00 & 1.00 & 0.00 & -0.00 & -0.00 & 1.00 & 1.00 & 0.00 & -13.80 & 0.00 & 141.44 \\\\\n",
       "saldo_cuenta_ahorro_100_a_500 & 0.09 & 1.09 & 0.13 & -0.17 & 0.35 & 0.84 & 1.42 & 0.00 & 0.68 & 0.50 & 1.01 \\\\\n",
       "saldo_cuenta_ahorro_500_a_1000 & 0.20 & 1.22 & 0.15 & -0.10 & 0.49 & 0.91 & 1.63 & 0.00 & 1.31 & 0.19 & 2.40 \\\\\n",
       "saldo_cuenta_ahorro_mas_de_1000 & 0.27 & 1.31 & 0.17 & -0.06 & 0.60 & 0.95 & 1.82 & 0.00 & 1.63 & 0.10 & 3.27 \\\\\n",
       "casa_propia & 0.39 & 1.48 & 0.16 & 0.07 & 0.71 & 1.07 & 2.04 & 0.00 & 2.40 & 0.02 & 5.91 \\\\\n",
       "casa_renta & 0.29 & 1.33 & 0.20 & -0.10 & 0.67 & 0.91 & 1.96 & 0.00 & 1.45 & 0.15 & 2.77 \\\\\n",
       "historia_crediticia_no_ha_pagado & 1.01 & 2.75 & 0.30 & 0.42 & 1.60 & 1.53 & 4.97 & 0.00 & 3.36 & 0.00 & 10.34 \\\\\n",
       "historia_crediticia_pago_algun_credito & 0.67 & 1.95 & 0.30 & 0.08 & 1.25 & 1.09 & 3.49 & 0.00 & 2.24 & 0.03 & 5.30 \\\\\n",
       "historia_crediticia_pago_retrasado & 0.46 & 1.58 & 0.33 & -0.18 & 1.10 & 0.83 & 2.99 & 0.00 & 1.40 & 0.16 & 2.62 \\\\\n",
       "historia_crediticia_pago_todos & -0.09 & 0.91 & 0.38 & -0.84 & 0.66 & 0.43 & 1.94 & 0.00 & -0.23 & 0.82 & 0.29 \\\\\n",
       "\\end{tabular}\n"
      ],
      "text/plain": [
       "<lifelines.CoxPHFitter: fitted with 817 total observations, 268 right-censored observations>\n",
       "             duration col = 'meses'\n",
       "                event col = 'credito_pagado'\n",
       "      baseline estimation = breslow\n",
       "   number of observations = 817\n",
       "number of events observed = 549\n",
       "   partial log-likelihood = -3067.98\n",
       "         time fit was run = 2023-10-05 19:56:01 UTC\n",
       "\n",
       "---\n",
       "                                         coef  exp(coef)   se(coef)   coef lower 95%   coef upper 95%  exp(coef) lower 95%  exp(coef) upper 95%\n",
       "covariate                                                                                                                                      \n",
       "edad                                     0.01       1.01       0.00             0.01             0.02                 1.01                 1.02\n",
       "tasa_de_interes                         -0.43       0.65       0.04            -0.52            -0.35                 0.60                 0.70\n",
       "cantidad                                -0.00       1.00       0.00            -0.00            -0.00                 1.00                 1.00\n",
       "saldo_cuenta_ahorro_100_a_500            0.09       1.09       0.13            -0.17             0.35                 0.84                 1.42\n",
       "saldo_cuenta_ahorro_500_a_1000           0.20       1.22       0.15            -0.10             0.49                 0.91                 1.63\n",
       "saldo_cuenta_ahorro_mas_de_1000          0.27       1.31       0.17            -0.06             0.60                 0.95                 1.82\n",
       "casa_propia                              0.39       1.48       0.16             0.07             0.71                 1.07                 2.04\n",
       "casa_renta                               0.29       1.33       0.20            -0.10             0.67                 0.91                 1.96\n",
       "historia_crediticia_no_ha_pagado         1.01       2.75       0.30             0.42             1.60                 1.53                 4.97\n",
       "historia_crediticia_pago_algun_credito   0.67       1.95       0.30             0.08             1.25                 1.09                 3.49\n",
       "historia_crediticia_pago_retrasado       0.46       1.58       0.33            -0.18             1.10                 0.83                 2.99\n",
       "historia_crediticia_pago_todos          -0.09       0.91       0.38            -0.84             0.66                 0.43                 1.94\n",
       "\n",
       "                                         cmp to      z      p   -log2(p)\n",
       "covariate                                                               \n",
       "edad                                       0.00   3.35 <0.005      10.27\n",
       "tasa_de_interes                            0.00 -10.49 <0.005      83.08\n",
       "cantidad                                   0.00 -13.80 <0.005     141.44\n",
       "saldo_cuenta_ahorro_100_a_500              0.00   0.68   0.50       1.01\n",
       "saldo_cuenta_ahorro_500_a_1000             0.00   1.31   0.19       2.40\n",
       "saldo_cuenta_ahorro_mas_de_1000            0.00   1.63   0.10       3.27\n",
       "casa_propia                                0.00   2.40   0.02       5.91\n",
       "casa_renta                                 0.00   1.45   0.15       2.77\n",
       "historia_crediticia_no_ha_pagado           0.00   3.36 <0.005      10.34\n",
       "historia_crediticia_pago_algun_credito     0.00   2.24   0.03       5.30\n",
       "historia_crediticia_pago_retrasado         0.00   1.40   0.16       2.62\n",
       "historia_crediticia_pago_todos             0.00  -0.23   0.82       0.29\n",
       "---\n",
       "Concordance = 0.78\n",
       "Partial AIC = 6159.95\n",
       "log-likelihood ratio test = 396.47 on 12 df\n",
       "-log2(p) of ll-ratio test = 254.71"
      ]
     },
     "metadata": {},
     "output_type": "display_data"
    }
   ],
   "source": [
    "cph1.print_summary()"
   ]
  },
  {
   "cell_type": "code",
   "execution_count": 59,
   "metadata": {},
   "outputs": [
    {
     "data": {
      "text/plain": [
       "covariate\n",
       "edad                                      1.013497\n",
       "tasa_de_interes                           0.647633\n",
       "cantidad                                  0.999599\n",
       "saldo_cuenta_ahorro_100_a_500             1.094395\n",
       "saldo_cuenta_ahorro_500_a_1000            1.215721\n",
       "saldo_cuenta_ahorro_mas_de_1000           1.311307\n",
       "casa_propia                               1.478199\n",
       "casa_renta                                1.330761\n",
       "historia_crediticia_no_ha_pagado          2.752374\n",
       "historia_crediticia_pago_algun_credito    1.945314\n",
       "historia_crediticia_pago_retrasado        1.577656\n",
       "historia_crediticia_pago_todos            0.914438\n",
       "Name: exp(coef), dtype: float64"
      ]
     },
     "execution_count": 59,
     "metadata": {},
     "output_type": "execute_result"
    }
   ],
   "source": [
    "cph1.hazard_ratios_"
   ]
  },
  {
   "cell_type": "markdown",
   "metadata": {},
   "source": [
    "#### Interpretación de cada uno de los coeficientes \n",
    "\n",
    "Notas .\n",
    " \n",
    " Rechazamos $H_0$ si p-value < $alpha$\n",
    " \n",
    " Cuando coef(-) , entonces exp(coef)< 1 ,es decir , la variable influye de manera negativa (disminuye) ; (1-exp(coef))\n",
    "\n",
    "  Cuando coef(+) , entonces exp(coef) > 1 ,es decir , la variable influye de manera positiva (aumenta) ; (exp(coef)-1)\n",
    "\n"
   ]
  },
  {
   "cell_type": "markdown",
   "metadata": {},
   "source": [
    "Variable edad\n",
    "\n",
    "Rechazo $H_0$ : Su p-value es < 0.005 , esto nos dice que edad tiene efecto significativo sobre el riesgo de que el préstamo se pague en su totalidad , entonces por cada año de edad del cliente el riesgo de que el prestamo se pague en su totalidad aumenta 1% "
   ]
  },
  {
   "cell_type": "markdown",
   "metadata": {},
   "source": [
    "Variable tasa_de_interes \n",
    "\n",
    "Rechazo $H_0$ : Su p-value es < 0.005 , esto nos dice que la tasa de interes tiene efecto significativo sobre el riesgo de que el préstamo se pague en su totalidad , entonces la tasa de interes disminuye 35% el riesgo de que el prestamo se pague en su totalidad "
   ]
  },
  {
   "cell_type": "markdown",
   "metadata": {},
   "source": [
    "Variable cantidad\n",
    "\n",
    "Rechazo $H_0$ : Su p-value es < 0.005 , esto nos dice que cantidad tiene efecto significativo sobre el riesgo de que el préstamo se pague en su totalidad , entonces por cada monto del préstamo otorgado en euros el riesgo de que el prestamo se pague en su totalidad disminuye .04%"
   ]
  },
  {
   "cell_type": "markdown",
   "metadata": {},
   "source": [
    "Variable saldo_cuenta_ahorro_100_a_500\t\n",
    "\n",
    "No Rechazo $H_0$ : Su p-value es 0.50 , entonces tener saldo en una cuenta ahorro de 100 a 500 no tiene efecto significativo "
   ]
  },
  {
   "cell_type": "markdown",
   "metadata": {},
   "source": [
    "Variable saldo_cuenta_ahorro_500_a_1000\n",
    "\n",
    "No Rechazo $H_0$ : Su p-value es 0.19 , entonces tener saldo en una cuenta ahorro de 500 a 1000 no tiene efecto significativo "
   ]
  },
  {
   "cell_type": "markdown",
   "metadata": {},
   "source": [
    "Variable saldo_cuenta_ahorro_mas_de_1000\n",
    "\n",
    "No Rechazo $H_0$ : Su p-value es 0.10 , entonces tener mas de 1000 de saldo en una cuenta de ahorro no tiene efecto significativo "
   ]
  },
  {
   "cell_type": "markdown",
   "metadata": {},
   "source": [
    "Variable casa_propia\n",
    "\n",
    "Rechazo $H_0$ : Su p-value es 0.02 , esto nos dice que tener casa propia tiene efecto significativo sobre el riesgo de que el préstamo se pague en su totalidad , entonces el riesgo aumenta un 48% si el cliente tiene casa propia con respecto a los que tienen casa prestada \n"
   ]
  },
  {
   "cell_type": "markdown",
   "metadata": {},
   "source": [
    "Variable casa_renta\n",
    "\n",
    "No Rechazo $H_0$ : Su p-value es 0.15 , esto nos dice que tener casa rentada no tiene efecto significativo sobre el riesgo "
   ]
  },
  {
   "cell_type": "markdown",
   "metadata": {},
   "source": [
    "Variable historia_crediticia_no_ha_pagado\n",
    "\n",
    "Rechazo $H_0$ : Su p-value es <0.005 , esto nos dice que el historial crediticio de no pagar tiene efecto significativo sobre el riesgo de que el préstamo se pague en su totalidad , entonces el riesgo aumenta 1.75 veces si no ha pagado con respecto a los que no tienen creditos en su historia crediticia\n"
   ]
  },
  {
   "cell_type": "markdown",
   "metadata": {},
   "source": [
    "Variable historia_crediticia_pago_algun_credito\n",
    "\n",
    "Rechazo $H_0$ : Su p-value es 0.03 , esto nos dice que el historial crediticio de pagar algun credito tiene efecto significativo sobre el riesgo de que el préstamo se pague en su totalidad , entonces el riesgo de que se pague el prestamo en su totalidad si ha pagado algun credito aumenta un 95% con respecto a los que no tienen creditos en su historia crediticia\n"
   ]
  },
  {
   "cell_type": "markdown",
   "metadata": {},
   "source": [
    "Variable historia_crediticia_pago_retrasado\n",
    "\n",
    "No Rechazo $H_0$ : Su p-value es 0.16 , esto nos dice que el historial crediticio de pagar retrasado no tiene efecto significativo sobre el riesgo "
   ]
  },
  {
   "cell_type": "markdown",
   "metadata": {},
   "source": [
    "Variable historia_crediticia_pago_todos\n",
    "\n",
    "No Rechazo $H_0$ : Su p-value es 0.82 , esto nos dice que el historial crediticio de pagar todos no tiene efecto significativo sobre el riesgo "
   ]
  },
  {
   "cell_type": "markdown",
   "metadata": {},
   "source": [
    "### 5. Con  base  en  los  cálculos  realizados,  redacta  un  comentario integral de  por  lo menos  250 palabras que  resuma  el  análisis,  reflexiones  y  recomendaciones sobre la política de otorgamiento de créditos en el Banco de la Ilusión"
   ]
  },
  {
   "cell_type": "markdown",
   "metadata": {},
   "source": [
    "Con la base de datos proporcionada por el banco, que contiene información sobre los créditos y préstamos otorgados a distintos clientes pudimos aplicar la estadistica que se necesita en nuestros datos para revisar las politicas de otorgamiento de préstamos del banco y así análisar mas los factores que influyen sobre el riesgo de que el prestamo se pague en su totalidad . \n",
    "\n",
    "Con el Análisis exploratorio se obtuvo que los clientes que ya pagaron el prestamo en su totalidad su tasa de interes promedio fue de 2.92 por ciento y el monto promedio fue de 2,985.457 euros mientras que los clientes que aun no terminan de pagar el prestamo , su tasa de interes promedio y el monto promedio fue de 3.097 y 3938.127 euros respectivamente. Por lo que se puede conlcuir de aqui que la tasa de interes y el monto estan influyendo en que se pague el prestamo por lo que si la tasa de interes fuera menor y el monto del prestamo otorgado fuera una cantidad mas pequeña los clientes terminarian de pagar en su totalidad el prestamo. \n",
    "\n",
    "Con el modelo de Kaplan- Meier se obtuvo la mediana del tiempo de supervivencia que fue de 24 meses , donde con esto se refiere al tiempo que transcurre desde que se hace el prestamo hasta que ocurre el evento que en este caso es que se paga el prestamo en su totalidad por lo que la mitad de los clientes que han terminado de pagar tardan arriba de 24 meses y la otra mitad por debajo de 24 meses. \n",
    "\n",
    "Se determino que su tiempo de supervivencia es Log-Normal que fue el modelo que supusimos como el \"mejor\" , donde pudimos observar el riesgo de que el préstamo se pague en su totalidad es creciente en los primeros meses y comienza a ser decreciente a partir de los 30 meses , por lo que de aqui podriamos decir que superior a los 30 meses hay mas riesgo de que el prestamo no se pague en su totalidad\n",
    "\n",
    "Por ultimo estimando un modelo de cox con las variables cantidad , tasa de interes , saldo_cuenta_ahorro,casa,historia_crediticia y edad se obtuvo la informacion para saber si estas variables son significativas en el riesgo de que se pague el prestamo en su totalidad y asi interpretar sus coeficientes para darnos una idea de cuanto y como influyen , por lo que con esto se puede recomendar al banco sobre la politica de otorgamiento de creditos que entre mas grande sea la persona de edad , tenga casa propia y no sea prestada esto aumenta el riesgo de que si se pague el prestamo en su totalidad , y que seria bueno revisar un poco mas el historial creditico de los clientes."
   ]
  }
 ],
 "metadata": {
  "kernelspec": {
   "display_name": "Python 3.10.6 64-bit",
   "language": "python",
   "name": "python3"
  },
  "language_info": {
   "codemirror_mode": {
    "name": "ipython",
    "version": 3
   },
   "file_extension": ".py",
   "mimetype": "text/x-python",
   "name": "python",
   "nbconvert_exporter": "python",
   "pygments_lexer": "ipython3",
   "version": "3.10.6"
  },
  "orig_nbformat": 4,
  "vscode": {
   "interpreter": {
    "hash": "aee8b7b246df8f9039afb4144a1f6fd8d2ca17a180786b69acc140d282b71a49"
   }
  }
 },
 "nbformat": 4,
 "nbformat_minor": 2
}
