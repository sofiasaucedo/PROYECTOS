{
 "cells": [
  {
   "cell_type": "markdown",
   "id": "093543d7-16f9-415a-86c1-d1617213edfe",
   "metadata": {},
   "source": [
    "# Actividad 2\n",
    "Nombre: Ana Sofia Saucedo Garcia\n",
    "\n",
    "Matrícula: 1946646\n",
    "\n",
    "Grupo: 042"
   ]
  },
  {
   "cell_type": "markdown",
   "id": "aa29e0d3-4818-44b9-b57f-3cfd97b9a2ae",
   "metadata": {},
   "source": [
    "1. Contamos con la edad de las personas de San Andres, un pueblito de la sierra de Nuevo León, que cuenta con 50 habitantes en total. Genera una lista con la edad de los 50 habitantes de San Andres. la lista debe llamarse \"edades_pueblito\""
   ]
  },
  {
   "cell_type": "code",
   "execution_count": 23,
   "id": "878cc4c3-3709-4c73-8e36-5e0a04838dcc",
   "metadata": {},
   "outputs": [],
   "source": [
    "# 23, 80, 99, 66, 87, 31, 61, 21, 54, 76, 78, 17, 14, 26, 100, 34, 1, 70, 5,\n",
    "#31, 51, 39, 47, 81, 69, 45, 40, 8, 44, 60, 77, 93, 22, 91, 4, 37, 87, 34, 98,\n",
    "#29, 7, 63, 11, 91, 86, 20, 33, 90, 72, 61\n",
    "#espuesta\n",
    "\n",
    "edades_pueblito= [23, 80, 99, 66, 87, 31, 61, 21, 54, 76, 78, 17, 14, 26, 100, 34, 1, 70, 5,31, 51, 39, 47, 81, 69, 45, 40, 8, 44, 60, 77, 93, 22, 91, 4, 37, 87, 34, 98,29, 7, 63, 11, 91, 86, 20, 33, 90, 72, 61]\n"
   ]
  },
  {
   "cell_type": "markdown",
   "id": "b4d47a26-4561-48fc-a7e8-df275c26e758",
   "metadata": {},
   "source": [
    "2. Importa la librería de numpy con su apodo, y luego convierte  la lista edades_pueblito en un arreglo"
   ]
  },
  {
   "cell_type": "code",
   "execution_count": 35,
   "id": "02009718-9950-4324-aca5-a448727ed50b",
   "metadata": {},
   "outputs": [],
   "source": [
    "#respuesta\n",
    "import numpy as np \n",
    "\n",
    "edades = np.array(edades_pueblito)\n"
   ]
  },
  {
   "cell_type": "markdown",
   "id": "7ed73508-1db7-4567-ae2f-81bbab9345f3",
   "metadata": {},
   "source": [
    "3. Calcula la media, la varianza, y la desviación estándar de la edad de los habitantes de San Andres, muestra un texto (print) con los cálculos realizados"
   ]
  },
  {
   "cell_type": "code",
   "execution_count": 25,
   "id": "ce1b283c-3f4a-4dbb-9633-099bbf4668c6",
   "metadata": {},
   "outputs": [],
   "source": [
    "#respuesta\n",
    "\n",
    "# media\n",
    "media= np.mean(edades)\n",
    "\n",
    "# varianza poblacional \n",
    "var=np.var(edades)\n",
    "\n",
    "# desviacion estandar\n",
    "desv = np.std(edades)"
   ]
  },
  {
   "cell_type": "code",
   "execution_count": 26,
   "id": "5c3333a4",
   "metadata": {},
   "outputs": [
    {
     "name": "stdout",
     "output_type": "stream",
     "text": [
      "Las edades de los habitantes de San Andres tienen una media de 51.28 ,varianza de 887.2416000000001 y desviacion estandar de  29.78660101455015\n"
     ]
    }
   ],
   "source": [
    "print('Las edades de los habitantes de San Andres tienen una media de',media, ',varianza de',var,'y desviacion estandar de ',desv)"
   ]
  },
  {
   "cell_type": "markdown",
   "id": "ca0149e9-ab8e-4708-b17b-27c791392d1a",
   "metadata": {},
   "source": [
    "4. Sin utilizar la formula de la media de numpy, es decir, sin utilizar np.mean(), como podriamos  calcular la media utlizando solo las funciones que hemos visto en clase."
   ]
  },
  {
   "cell_type": "code",
   "execution_count": 27,
   "id": "4413f41b-5a50-440c-ac59-743d8f366842",
   "metadata": {},
   "outputs": [
    {
     "data": {
      "text/plain": [
       "51.28"
      ]
     },
     "execution_count": 27,
     "metadata": {},
     "output_type": "execute_result"
    }
   ],
   "source": [
    "#respuesta\n",
    "\n",
    "promedio = np.sum(edades)/50\n",
    "promedio"
   ]
  },
  {
   "cell_type": "markdown",
   "id": "60047a79-fe4d-4967-8e71-304edce9b249",
   "metadata": {},
   "source": [
    "5. Selecciona una muestra de las edades de las primeras 20 personas del pueblo de San Andres, guardalo en un objeto llamado muestra_pueblito"
   ]
  },
  {
   "cell_type": "code",
   "execution_count": 28,
   "id": "f8dca0bc-4880-4463-a729-67503de9b140",
   "metadata": {},
   "outputs": [
    {
     "data": {
      "text/plain": [
       "array([ 23,  80,  99,  66,  87,  31,  61,  21,  54,  76,  78,  17,  14,\n",
       "        26, 100,  34,   1,  70,   5,  31,  51])"
      ]
     },
     "execution_count": 28,
     "metadata": {},
     "output_type": "execute_result"
    }
   ],
   "source": [
    "#respuesta\n",
    "\n",
    "muestra_pueblito = edades[0:21]\n",
    "muestra_pueblito"
   ]
  },
  {
   "cell_type": "markdown",
   "id": "6c2f598f-d727-4437-b060-5d7052544652",
   "metadata": {},
   "source": [
    "6. Calcula la media, la varianza y la desviación estándar de la muestra de las edades del pueblo de San Andres, muestra un texto (print) con los calculos realizados "
   ]
  },
  {
   "cell_type": "code",
   "execution_count": 29,
   "id": "eceb2269-e3cb-43d4-9206-f2b21f5cd48b",
   "metadata": {},
   "outputs": [],
   "source": [
    "#respuesta\n",
    "# media\n",
    "media_muestra= np.mean(muestra_pueblito)\n",
    "\n",
    "# varianza muestral\n",
    "var_m=np.var(muestra_pueblito,ddof=1)\n",
    "\n",
    "# desviacion estandar\n",
    "desv_m = np.std(muestra_pueblito,ddof=1)\n",
    "\n"
   ]
  },
  {
   "cell_type": "code",
   "execution_count": 32,
   "id": "6a1ccf78",
   "metadata": {},
   "outputs": [
    {
     "name": "stdout",
     "output_type": "stream",
     "text": [
      "Las edades de los habitantes de San Andres tienen una media de 48.80952380952381 ,varianza de 966.4619047619047 y desviacion estandar de  31.087970418827677\n"
     ]
    }
   ],
   "source": [
    "print('Las edades de los habitantes de San Andres tienen una media de',media_muestra, ',varianza de',var_m,'y desviacion estandar de ',desv_m)"
   ]
  },
  {
   "cell_type": "markdown",
   "id": "e702d284-b04b-4f89-8e01-bb56635c703c",
   "metadata": {},
   "source": [
    "7. Sabemos que en San Andres se dedican a la producción de huevo de gallina. Existen 20 productores de huevo en San Andres, donde en promedio cada uno produce 5.6785 kg de huevo por día. ¿cuál es la producción de huevo en kg por mes en San Andres?\n",
    "\n",
    "Resuelve utilizando np.prod()"
   ]
  },
  {
   "cell_type": "code",
   "execution_count": 39,
   "id": "d7cc2869-27f8-4687-933c-d4975b445f44",
   "metadata": {},
   "outputs": [
    {
     "data": {
      "text/plain": [
       "3407.1"
      ]
     },
     "execution_count": 39,
     "metadata": {},
     "output_type": "execute_result"
    }
   ],
   "source": [
    "#respuesta\n",
    "\n",
    "produccion_huevo = [5.6785,20,30]\n",
    "produccion_huevo = np.array(produccion_huevo)\n",
    "huevo_mes = np.prod(produccion_huevo)\n",
    "\n",
    "huevo_mes"
   ]
  },
  {
   "cell_type": "markdown",
   "id": "3cdf63ac-abd1-4c6f-a379-b0b22b2a3d34",
   "metadata": {},
   "source": [
    "8. Resuelve el ejercicio 7 sin usar np.prod(). Resuelva  utilizando tres objetos: \"productores\" que contenga el número de productores, \"huevos_promedio_x_dia\" que contenga la producción promedio de kg de huevo al día por productor y \"días del mes\" que contega el número de días  en un mes"
   ]
  },
  {
   "cell_type": "code",
   "execution_count": 4,
   "id": "7e879332-66e1-44e2-9163-3a37b06ac78b",
   "metadata": {},
   "outputs": [
    {
     "data": {
      "text/plain": [
       "3407.1"
      ]
     },
     "execution_count": 4,
     "metadata": {},
     "output_type": "execute_result"
    }
   ],
   "source": [
    "#respuesta\n",
    "productores = 20\n",
    "huevos_promedio_x_dia= 5.6785\n",
    "Diasdelmes = 30 \n",
    "\n",
    "huevos_mes = productores*huevos_promedio_x_dia*Diasdelmes\n",
    "\n",
    "huevos_mes\n"
   ]
  }
 ],
 "metadata": {
  "kernelspec": {
   "display_name": "Python 3.10.6 64-bit",
   "language": "python",
   "name": "python3"
  },
  "language_info": {
   "codemirror_mode": {
    "name": "ipython",
    "version": 3
   },
   "file_extension": ".py",
   "mimetype": "text/x-python",
   "name": "python",
   "nbconvert_exporter": "python",
   "pygments_lexer": "ipython3",
   "version": "3.10.6"
  },
  "vscode": {
   "interpreter": {
    "hash": "aee8b7b246df8f9039afb4144a1f6fd8d2ca17a180786b69acc140d282b71a49"
   }
  }
 },
 "nbformat": 4,
 "nbformat_minor": 5
}
