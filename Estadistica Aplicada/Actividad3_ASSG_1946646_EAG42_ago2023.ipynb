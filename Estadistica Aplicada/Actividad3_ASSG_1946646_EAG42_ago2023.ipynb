{
 "cells": [
  {
   "cell_type": "markdown",
   "id": "15077421-4fb8-48e1-a360-252e20cde59a",
   "metadata": {},
   "source": [
    "# Ejercicio de Pandas"
   ]
  },
  {
   "cell_type": "markdown",
   "id": "453c7bc5-10c6-4adf-aec4-e14206fcf11f",
   "metadata": {},
   "source": [
    "Carga las 2 librerias que hemos visto a lo largo del curso junto con su \"apodo\"\n",
    "\n",
    "numpy, y pandas"
   ]
  },
  {
   "cell_type": "markdown",
   "id": "e49faae5-5c69-4680-a9ba-c33e25347850",
   "metadata": {},
   "source": [
    "**Coloca tu nombre y matricula** \n",
    "\n",
    "Nombre: Ana Sofia Saucedo Garcia\n",
    "\n",
    "Matricula: 1946646"
   ]
  },
  {
   "cell_type": "markdown",
   "id": "98dba434",
   "metadata": {},
   "source": [
    "1. Carga las librerias básicas"
   ]
  },
  {
   "cell_type": "code",
   "execution_count": 1,
   "id": "c93b212d-5354-4a80-8de8-dd23f90d8f1a",
   "metadata": {},
   "outputs": [],
   "source": [
    "##### carga las dos librerias usadas (numpy, pandas ) \n",
    "\n",
    "import numpy as np\n",
    "import pandas as pd\n"
   ]
  },
  {
   "cell_type": "markdown",
   "id": "80e5a00d-5aeb-4ae0-be87-fb17cc86d3fd",
   "metadata": {
    "tags": []
   },
   "source": [
    "El siguiente comando importa un data frame desde un archivo csv de internet"
   ]
  },
  {
   "cell_type": "code",
   "execution_count": 2,
   "id": "48bf2527-df27-43d8-bdd0-20fae67e645e",
   "metadata": {},
   "outputs": [],
   "source": [
    " ventas = pd.read_csv('https://raw.githubusercontent.com/jimmyzac/Estadistica-Aplicada-FCFM-UANL/main/bases_datos/ventas2.csv')\n"
   ]
  },
  {
   "cell_type": "markdown",
   "id": "3ea4f5ac",
   "metadata": {},
   "source": [
    "En caso de que una cantidad contenga decimales, debe estar redondeada a un decimal"
   ]
  },
  {
   "cell_type": "markdown",
   "id": "e963be95",
   "metadata": {},
   "source": [
    "2. Características del dataframe"
   ]
  },
  {
   "cell_type": "code",
   "execution_count": 3,
   "id": "70524dc3-d37d-42e0-a570-21d022719a59",
   "metadata": {},
   "outputs": [
    {
     "name": "stdout",
     "output_type": "stream",
     "text": [
      "<class 'pandas.core.frame.DataFrame'>\n",
      "RangeIndex: 168 entries, 0 to 167\n",
      "Data columns (total 4 columns):\n",
      " #   Column  Non-Null Count  Dtype \n",
      "---  ------  --------------  ----- \n",
      " 0   Año     168 non-null    int64 \n",
      " 1   Mes     168 non-null    object\n",
      " 2   Ventas  168 non-null    int64 \n",
      " 3   Gasto   168 non-null    int64 \n",
      "dtypes: int64(3), object(1)\n",
      "memory usage: 5.4+ KB\n"
     ]
    }
   ],
   "source": [
    "#con código de python muestra cuantas filas y columnas tiene el dataframe y como se llaman las columnas\n",
    "ventas.info()"
   ]
  },
  {
   "cell_type": "code",
   "execution_count": 4,
   "id": "7256d6a9-86f1-4713-afe5-6564cd004bdc",
   "metadata": {},
   "outputs": [
    {
     "data": {
      "text/html": [
       "<div>\n",
       "<style scoped>\n",
       "    .dataframe tbody tr th:only-of-type {\n",
       "        vertical-align: middle;\n",
       "    }\n",
       "\n",
       "    .dataframe tbody tr th {\n",
       "        vertical-align: top;\n",
       "    }\n",
       "\n",
       "    .dataframe thead th {\n",
       "        text-align: right;\n",
       "    }\n",
       "</style>\n",
       "<table border=\"1\" class=\"dataframe\">\n",
       "  <thead>\n",
       "    <tr style=\"text-align: right;\">\n",
       "      <th></th>\n",
       "      <th>Año</th>\n",
       "      <th>Mes</th>\n",
       "      <th>Ventas</th>\n",
       "      <th>Gasto</th>\n",
       "    </tr>\n",
       "  </thead>\n",
       "  <tbody>\n",
       "    <tr>\n",
       "      <th>0</th>\n",
       "      <td>2010</td>\n",
       "      <td>Enero</td>\n",
       "      <td>1056</td>\n",
       "      <td>533</td>\n",
       "    </tr>\n",
       "    <tr>\n",
       "      <th>1</th>\n",
       "      <td>2010</td>\n",
       "      <td>Febrero</td>\n",
       "      <td>910</td>\n",
       "      <td>496</td>\n",
       "    </tr>\n",
       "    <tr>\n",
       "      <th>2</th>\n",
       "      <td>2010</td>\n",
       "      <td>Marzo</td>\n",
       "      <td>1095</td>\n",
       "      <td>695</td>\n",
       "    </tr>\n",
       "    <tr>\n",
       "      <th>3</th>\n",
       "      <td>2010</td>\n",
       "      <td>Abril</td>\n",
       "      <td>1157</td>\n",
       "      <td>599</td>\n",
       "    </tr>\n",
       "    <tr>\n",
       "      <th>4</th>\n",
       "      <td>2010</td>\n",
       "      <td>Mayo</td>\n",
       "      <td>969</td>\n",
       "      <td>490</td>\n",
       "    </tr>\n",
       "  </tbody>\n",
       "</table>\n",
       "</div>"
      ],
      "text/plain": [
       "    Año      Mes  Ventas  Gasto\n",
       "0  2010    Enero    1056    533\n",
       "1  2010  Febrero     910    496\n",
       "2  2010    Marzo    1095    695\n",
       "3  2010    Abril    1157    599\n",
       "4  2010     Mayo     969    490"
      ]
     },
     "execution_count": 4,
     "metadata": {},
     "output_type": "execute_result"
    }
   ],
   "source": [
    "#muestra las primeras 5 filas del dataframe\n",
    "ventas.head()"
   ]
  },
  {
   "cell_type": "markdown",
   "id": "2c10a937-50af-4d99-9dfe-9128a8e21fac",
   "metadata": {},
   "source": [
    "*ventas es una base de datos que contiene las ventas mensuales de una tienda X para los años 2010-2023*"
   ]
  },
  {
   "cell_type": "markdown",
   "id": "0f97e867-2de1-45ff-ba01-b5fed8e7fbe8",
   "metadata": {},
   "source": [
    "3. Crea una nueva columna que se llame **Ganancias** y que contenga la diferencia entre ventas-gastos "
   ]
  },
  {
   "cell_type": "code",
   "execution_count": 5,
   "id": "769b870a-802b-4c27-864d-f9a442e287bb",
   "metadata": {},
   "outputs": [
    {
     "data": {
      "text/html": [
       "<div>\n",
       "<style scoped>\n",
       "    .dataframe tbody tr th:only-of-type {\n",
       "        vertical-align: middle;\n",
       "    }\n",
       "\n",
       "    .dataframe tbody tr th {\n",
       "        vertical-align: top;\n",
       "    }\n",
       "\n",
       "    .dataframe thead th {\n",
       "        text-align: right;\n",
       "    }\n",
       "</style>\n",
       "<table border=\"1\" class=\"dataframe\">\n",
       "  <thead>\n",
       "    <tr style=\"text-align: right;\">\n",
       "      <th></th>\n",
       "      <th>Año</th>\n",
       "      <th>Mes</th>\n",
       "      <th>Ventas</th>\n",
       "      <th>Gasto</th>\n",
       "      <th>Ganancias</th>\n",
       "    </tr>\n",
       "  </thead>\n",
       "  <tbody>\n",
       "    <tr>\n",
       "      <th>0</th>\n",
       "      <td>2010</td>\n",
       "      <td>Enero</td>\n",
       "      <td>1056</td>\n",
       "      <td>533</td>\n",
       "      <td>523</td>\n",
       "    </tr>\n",
       "    <tr>\n",
       "      <th>1</th>\n",
       "      <td>2010</td>\n",
       "      <td>Febrero</td>\n",
       "      <td>910</td>\n",
       "      <td>496</td>\n",
       "      <td>414</td>\n",
       "    </tr>\n",
       "    <tr>\n",
       "      <th>2</th>\n",
       "      <td>2010</td>\n",
       "      <td>Marzo</td>\n",
       "      <td>1095</td>\n",
       "      <td>695</td>\n",
       "      <td>400</td>\n",
       "    </tr>\n",
       "    <tr>\n",
       "      <th>3</th>\n",
       "      <td>2010</td>\n",
       "      <td>Abril</td>\n",
       "      <td>1157</td>\n",
       "      <td>599</td>\n",
       "      <td>558</td>\n",
       "    </tr>\n",
       "    <tr>\n",
       "      <th>4</th>\n",
       "      <td>2010</td>\n",
       "      <td>Mayo</td>\n",
       "      <td>969</td>\n",
       "      <td>490</td>\n",
       "      <td>479</td>\n",
       "    </tr>\n",
       "    <tr>\n",
       "      <th>...</th>\n",
       "      <td>...</td>\n",
       "      <td>...</td>\n",
       "      <td>...</td>\n",
       "      <td>...</td>\n",
       "      <td>...</td>\n",
       "    </tr>\n",
       "    <tr>\n",
       "      <th>163</th>\n",
       "      <td>2023</td>\n",
       "      <td>Agosto</td>\n",
       "      <td>1759</td>\n",
       "      <td>1818</td>\n",
       "      <td>-59</td>\n",
       "    </tr>\n",
       "    <tr>\n",
       "      <th>164</th>\n",
       "      <td>2023</td>\n",
       "      <td>Septiembre</td>\n",
       "      <td>2114</td>\n",
       "      <td>2142</td>\n",
       "      <td>-28</td>\n",
       "    </tr>\n",
       "    <tr>\n",
       "      <th>165</th>\n",
       "      <td>2023</td>\n",
       "      <td>Octubre</td>\n",
       "      <td>2120</td>\n",
       "      <td>1767</td>\n",
       "      <td>353</td>\n",
       "    </tr>\n",
       "    <tr>\n",
       "      <th>166</th>\n",
       "      <td>2023</td>\n",
       "      <td>Noviembre</td>\n",
       "      <td>2102</td>\n",
       "      <td>1652</td>\n",
       "      <td>450</td>\n",
       "    </tr>\n",
       "    <tr>\n",
       "      <th>167</th>\n",
       "      <td>2023</td>\n",
       "      <td>Diciembre</td>\n",
       "      <td>2166</td>\n",
       "      <td>2192</td>\n",
       "      <td>-26</td>\n",
       "    </tr>\n",
       "  </tbody>\n",
       "</table>\n",
       "<p>168 rows × 5 columns</p>\n",
       "</div>"
      ],
      "text/plain": [
       "      Año         Mes  Ventas  Gasto  Ganancias\n",
       "0    2010       Enero    1056    533        523\n",
       "1    2010     Febrero     910    496        414\n",
       "2    2010       Marzo    1095    695        400\n",
       "3    2010       Abril    1157    599        558\n",
       "4    2010        Mayo     969    490        479\n",
       "..    ...         ...     ...    ...        ...\n",
       "163  2023      Agosto    1759   1818        -59\n",
       "164  2023  Septiembre    2114   2142        -28\n",
       "165  2023     Octubre    2120   1767        353\n",
       "166  2023   Noviembre    2102   1652        450\n",
       "167  2023   Diciembre    2166   2192        -26\n",
       "\n",
       "[168 rows x 5 columns]"
      ]
     },
     "execution_count": 5,
     "metadata": {},
     "output_type": "execute_result"
    }
   ],
   "source": [
    "## escribe aqui el código\n",
    "ventas['Ganancias']= ventas['Ventas']-ventas['Gasto']\n",
    "ventas"
   ]
  },
  {
   "cell_type": "markdown",
   "id": "cf16e2ac-d08c-4a9a-96a6-a2fbecd794e3",
   "metadata": {},
   "source": [
    "4. Encuentra el mes-año con las ganancias más altas, el mes-año con las ventas mas altas, y el mes-año con los costos mas altos "
   ]
  },
  {
   "cell_type": "code",
   "execution_count": 6,
   "id": "0506853b-39e8-4a98-9607-7fe9e3fa4471",
   "metadata": {},
   "outputs": [
    {
     "data": {
      "text/plain": [
       "Año           2010\n",
       "Mes          Enero\n",
       "Ganancias      523\n",
       "Name: 0, dtype: object"
      ]
     },
     "execution_count": 6,
     "metadata": {},
     "output_type": "execute_result"
    }
   ],
   "source": [
    "## escribe aqui el código\n",
    "\n",
    "# Ganancias mas altas con mes-año\n",
    "Ganancia_alta= ventas.sort_values('Ganancias',ascending=False)\n",
    "Ganancia_alta.loc[0,['Año','Mes','Ganancias']]"
   ]
  },
  {
   "cell_type": "code",
   "execution_count": 7,
   "id": "f19d59f9",
   "metadata": {},
   "outputs": [
    {
     "data": {
      "text/plain": [
       "Año        2010\n",
       "Mes       Enero\n",
       "Ventas     1056\n",
       "Name: 0, dtype: object"
      ]
     },
     "execution_count": 7,
     "metadata": {},
     "output_type": "execute_result"
    }
   ],
   "source": [
    "\n",
    "# Ventas mas altas con mes-año\n",
    "Ventas_alta= ventas.sort_values('Ventas',ascending=False)\n",
    "Ventas_alta.loc[0,['Año','Mes','Ventas']]"
   ]
  },
  {
   "cell_type": "code",
   "execution_count": 8,
   "id": "5728bc09",
   "metadata": {},
   "outputs": [
    {
     "data": {
      "text/plain": [
       "Año       2010\n",
       "Mes      Enero\n",
       "Gasto      533\n",
       "Name: 0, dtype: object"
      ]
     },
     "execution_count": 8,
     "metadata": {},
     "output_type": "execute_result"
    }
   ],
   "source": [
    "\n",
    "# Costo mas alto con mes-año\n",
    "Gasto_alta= ventas.sort_values('Gasto',ascending=False)\n",
    "Gasto_alta.loc[0,['Año','Mes','Gasto']]"
   ]
  },
  {
   "cell_type": "markdown",
   "id": "9914fb6f-89f2-47e3-a1b2-a3a31388dd53",
   "metadata": {},
   "source": [
    "5. Calcula e imprime las ventas totales, gastos totales y ganancias totales de  todo el periodo\\\n",
    "Ejemplo de mensaje: **las ventas totales son: 5000**, etc"
   ]
  },
  {
   "cell_type": "code",
   "execution_count": 9,
   "id": "d538d912-e521-4878-aadf-7288917df0a9",
   "metadata": {},
   "outputs": [
    {
     "name": "stdout",
     "output_type": "stream",
     "text": [
      "Las ventas totales son : 235731\n"
     ]
    }
   ],
   "source": [
    "## escribe aqui el código\n",
    "\n",
    "Ventas_totales = ventas['Ventas'].sum()\n",
    "print('Las ventas totales son :', Ventas_totales)"
   ]
  },
  {
   "cell_type": "code",
   "execution_count": 10,
   "id": "16ff8b79",
   "metadata": {},
   "outputs": [
    {
     "name": "stdout",
     "output_type": "stream",
     "text": [
      "Los gastos totales son : 181123\n"
     ]
    }
   ],
   "source": [
    "\n",
    "Gastos_totales = ventas['Gasto'].sum()\n",
    "print('Los gastos totales son :', Gastos_totales)"
   ]
  },
  {
   "cell_type": "code",
   "execution_count": 11,
   "id": "d485f6a6",
   "metadata": {},
   "outputs": [
    {
     "name": "stdout",
     "output_type": "stream",
     "text": [
      "Las ganancias totales son : 54608\n"
     ]
    }
   ],
   "source": [
    "\n",
    "Ganancias_totales = ventas['Ganancias'].sum()\n",
    "print('Las ganancias totales son :', Ganancias_totales)"
   ]
  },
  {
   "cell_type": "markdown",
   "id": "38dae978-dc9f-4e6c-9902-98437bb6aa54",
   "metadata": {},
   "source": [
    "6. Calcula y muestra las ventas, gastos y ganancias para cada año\n"
   ]
  },
  {
   "cell_type": "code",
   "execution_count": 12,
   "id": "a6a89162-0e44-428c-bbdf-2fbef86eafb6",
   "metadata": {},
   "outputs": [
    {
     "data": {
      "text/plain": [
       "Año\n",
       "2010    12015\n",
       "2011    12778\n",
       "2012    12965\n",
       "2013    14037\n",
       "2014    14922\n",
       "2015    14951\n",
       "2016    15376\n",
       "2017    17189\n",
       "2018    18325\n",
       "2019    18204\n",
       "2020    18917\n",
       "2021    21057\n",
       "2022    21692\n",
       "2023    23303\n",
       "Name: Ventas, dtype: int64"
      ]
     },
     "execution_count": 12,
     "metadata": {},
     "output_type": "execute_result"
    }
   ],
   "source": [
    "## escribe aqui el código\n",
    "\n",
    "# Ventas de cada año \n",
    "ventas.groupby('Año')['Ventas'].agg('sum')"
   ]
  },
  {
   "cell_type": "code",
   "execution_count": 13,
   "id": "9b0e9074",
   "metadata": {},
   "outputs": [
    {
     "data": {
      "text/plain": [
       "Año\n",
       "2010     6756\n",
       "2011     7806\n",
       "2012     8430\n",
       "2013     8963\n",
       "2014    10377\n",
       "2015    10784\n",
       "2016    11053\n",
       "2017    12369\n",
       "2018    14648\n",
       "2019    14759\n",
       "2020    16206\n",
       "2021    17693\n",
       "2022    18946\n",
       "2023    22333\n",
       "Name: Gasto, dtype: int64"
      ]
     },
     "execution_count": 13,
     "metadata": {},
     "output_type": "execute_result"
    }
   ],
   "source": [
    "# Gastos de cada año \n",
    "ventas.groupby('Año')['Gasto'].agg('sum')"
   ]
  },
  {
   "cell_type": "code",
   "execution_count": 14,
   "id": "60526a93",
   "metadata": {},
   "outputs": [
    {
     "data": {
      "text/plain": [
       "Año\n",
       "2010    5259\n",
       "2011    4972\n",
       "2012    4535\n",
       "2013    5074\n",
       "2014    4545\n",
       "2015    4167\n",
       "2016    4323\n",
       "2017    4820\n",
       "2018    3677\n",
       "2019    3445\n",
       "2020    2711\n",
       "2021    3364\n",
       "2022    2746\n",
       "2023     970\n",
       "Name: Ganancias, dtype: int64"
      ]
     },
     "execution_count": 14,
     "metadata": {},
     "output_type": "execute_result"
    }
   ],
   "source": [
    "# Ganancias de cada año \n",
    "ventas.groupby('Año')['Ganancias'].agg('sum')"
   ]
  },
  {
   "cell_type": "markdown",
   "id": "caffc594-8756-4b20-9f24-49e460ca7797",
   "metadata": {},
   "source": [
    "7. Calcula y muestra las ventas promedio mensuales del año 2015"
   ]
  },
  {
   "cell_type": "code",
   "execution_count": 15,
   "id": "6beb888c-8b82-4755-9184-2487451436d9",
   "metadata": {},
   "outputs": [
    {
     "data": {
      "text/plain": [
       "1245.9"
      ]
     },
     "execution_count": 15,
     "metadata": {},
     "output_type": "execute_result"
    }
   ],
   "source": [
    "## escribe aqui el código\n",
    "##Pista: primero filtra para el año 2015, luego selecciona la columna ventas \n",
    "\n",
    "ventas2015= ventas[ventas['Año']== 2015]\n",
    "ventas2015['Ventas'].mean().round(1)"
   ]
  },
  {
   "cell_type": "markdown",
   "id": "5a7f7347-3def-4fd7-a14a-4ee98b327da6",
   "metadata": {},
   "source": [
    "8. Calcula e imprime las ventas totales y ventas promedio para los eneros. Es decir, enero de 2010, enero de 2011, enero 2012, etc "
   ]
  },
  {
   "cell_type": "code",
   "execution_count": 16,
   "id": "03387695-22af-481c-93e4-c0493df7a9a5",
   "metadata": {},
   "outputs": [
    {
     "data": {
      "text/plain": [
       "20073"
      ]
     },
     "execution_count": 16,
     "metadata": {},
     "output_type": "execute_result"
    }
   ],
   "source": [
    "## escribe aqui el código ventas totales\n",
    "##Pista: primero filtra los meses de enero, luego selecciona la columna ventas \n",
    "\n",
    "ventasEnero= ventas[ventas['Mes']== 'Enero']\n",
    "\n",
    "ventasEnero['Ventas'].sum()"
   ]
  },
  {
   "cell_type": "code",
   "execution_count": 19,
   "id": "dd6aad47",
   "metadata": {},
   "outputs": [
    {
     "data": {
      "text/plain": [
       "1433.7857142857142"
      ]
     },
     "execution_count": 19,
     "metadata": {},
     "output_type": "execute_result"
    }
   ],
   "source": [
    "## escribe aqui el código ventas promedio\n",
    "ventasEnero = ventas[ventas['Mes']== 'Enero']\n",
    "\n",
    "ventasEnero['Ventas'].mean()"
   ]
  },
  {
   "cell_type": "markdown",
   "id": "f462b2c6-3d85-4c51-8958-d48716cdddd2",
   "metadata": {},
   "source": [
    "9. Calcula las ventas promedio por mes, guardalo en un dataframe y por ultimo muestra ordenado por ventas promedio de menor a mayor"
   ]
  },
  {
   "cell_type": "code",
   "execution_count": 18,
   "id": "9befa656-d898-49f8-b00c-f93485d05560",
   "metadata": {},
   "outputs": [
    {
     "data": {
      "text/plain": [
       "Mes\n",
       "Junio         1325.714286\n",
       "Septiembre    1347.357143\n",
       "Julio         1363.642857\n",
       "Octubre       1388.285714\n",
       "Marzo         1394.428571\n",
       "Febrero       1406.357143\n",
       "Mayo          1409.714286\n",
       "Diciembre     1416.642857\n",
       "Enero         1433.785714\n",
       "Agosto        1437.857143\n",
       "Noviembre     1456.642857\n",
       "Abril         1457.500000\n",
       "Name: Ventas, dtype: float64"
      ]
     },
     "execution_count": 18,
     "metadata": {},
     "output_type": "execute_result"
    }
   ],
   "source": [
    "## aqui va tu codigo\n",
    "df_ventas = ventas.groupby('Mes')['Ventas'].agg('mean')\n",
    "\n",
    "df_ventas.sort_values()\n"
   ]
  }
 ],
 "metadata": {
  "kernelspec": {
   "display_name": "Python 3.10.6 64-bit",
   "language": "python",
   "name": "python3"
  },
  "language_info": {
   "codemirror_mode": {
    "name": "ipython",
    "version": 3
   },
   "file_extension": ".py",
   "mimetype": "text/x-python",
   "name": "python",
   "nbconvert_exporter": "python",
   "pygments_lexer": "ipython3",
   "version": "3.10.6"
  },
  "vscode": {
   "interpreter": {
    "hash": "aee8b7b246df8f9039afb4144a1f6fd8d2ca17a180786b69acc140d282b71a49"
   }
  }
 },
 "nbformat": 4,
 "nbformat_minor": 5
}
